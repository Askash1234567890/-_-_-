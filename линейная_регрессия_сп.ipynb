{
  "nbformat": 4,
  "nbformat_minor": 0,
  "metadata": {
    "colab": {
      "provenance": []
    },
    "kernelspec": {
      "name": "python3",
      "display_name": "Python 3"
    },
    "language_info": {
      "name": "python"
    }
  },
  "cells": [
    {
      "cell_type": "code",
      "source": [
        "import numpy as np\n",
        "import pandas as pd\n",
        "from sklearn.linear_model import LinearRegression, Ridge, ElasticNet, Lasso\n",
        "from sklearn.metrics import mean_squared_error, r2_score\n",
        "from sklearn.model_selection import train_test_split\n",
        "\n",
        "from matplotlib import pyplot as plt\n",
        "import seaborn as sns"
      ],
      "metadata": {
        "id": "GigtyaT_qmwM"
      },
      "execution_count": 1,
      "outputs": []
    },
    {
      "cell_type": "code",
      "source": [
        "# считываем файлы\n",
        "train = pd.read_csv('train.csv.zip')\n",
        "test = pd.read_csv('test.csv.zip')\n",
        "f_test = pd.read_csv('formula_test.csv.zip')\n",
        "f_train = pd.read_csv('formula_train.csv.zip')\n",
        "\n",
        "cor_value = 0.12\n",
        "test_size = 0.2"
      ],
      "metadata": {
        "id": "xAMsuNV2G9N0"
      },
      "execution_count": 4,
      "outputs": []
    },
    {
      "cell_type": "code",
      "source": [
        "# удаляем дублирующий столбец\n",
        "del f_train['critical_temp']\n",
        "\n",
        "# соединяем признаки в один фрэйм\n",
        "df_train = pd.concat([train, f_train], axis=1)\n",
        "df_test = pd.concat([test, f_test], axis=1)"
      ],
      "metadata": {
        "id": "zkzwqrgKHqQ0"
      },
      "execution_count": 5,
      "outputs": []
    },
    {
      "cell_type": "code",
      "source": [
        "df_train.tail()"
      ],
      "metadata": {
        "colab": {
          "base_uri": "https://localhost:8080/",
          "height": 256
        },
        "id": "HBOTiYQ6vCfD",
        "outputId": "a37963b4-2cf9-4745-9bd7-f749dc66e0e0"
      },
      "execution_count": null,
      "outputs": [
        {
          "output_type": "execute_result",
          "data": {
            "text/plain": [
              "       number_of_elements  mean_atomic_mass  wtd_mean_atomic_mass  \\\n",
              "17005                   4        106.957877             53.095769   \n",
              "17006                   5         92.266740             49.021367   \n",
              "17007                   2         99.663190             95.609104   \n",
              "17008                   2         99.663190             97.095602   \n",
              "17009                   3         87.468333             86.858500   \n",
              "\n",
              "       gmean_atomic_mass  wtd_gmean_atomic_mass  entropy_atomic_mass  \\\n",
              "17005          82.515384              43.135565             1.177145   \n",
              "17006          64.812662              32.867748             1.323287   \n",
              "17007          99.433882              95.464320             0.690847   \n",
              "17008          99.433882              96.901083             0.690847   \n",
              "17009          82.555758              80.458722             1.041270   \n",
              "\n",
              "       wtd_entropy_atomic_mass  range_atomic_mass  wtd_range_atomic_mass  \\\n",
              "17005                 1.254119          146.88130              15.504479   \n",
              "17006                 1.571630          188.38390               7.353333   \n",
              "17007                 0.530198           13.51362              53.041104   \n",
              "17008                 0.640883           13.51362              31.115202   \n",
              "17009                 0.895229           71.75500              43.144000   \n",
              "\n",
              "       std_atomic_mass  ...   Pt   Au   Hg   Tl   Pb   Bi  Po  At  Rn  \\\n",
              "17005        65.764081  ...  0.0  0.0  0.0  0.0  0.0  0.0   0   0   0   \n",
              "17006        69.232655  ...  0.0  0.0  0.0  1.0  0.0  0.0   0   0   0   \n",
              "17007         6.756810  ...  0.0  0.0  0.0  0.0  0.0  0.0   0   0   0   \n",
              "17008         6.756810  ...  0.0  0.0  0.0  0.0  0.0  0.0   0   0   0   \n",
              "17009        29.905282  ...  0.0  0.0  0.0  0.0  0.0  0.0   0   0   0   \n",
              "\n",
              "                 material  \n",
              "17005  Tm0.84Lu0.16Fe3Si5  \n",
              "17006     Tl1Ba2Ca3Cu4O11  \n",
              "17007          Nb0.8Pd0.2  \n",
              "17008        Nb0.69Pd0.31  \n",
              "17009       Fe1Se0.2Te0.8  \n",
              "\n",
              "[5 rows x 169 columns]"
            ],
            "text/html": [
              "\n",
              "  <div id=\"df-1f8b6b78-c607-4a6a-b021-c7d18682dc6c\" class=\"colab-df-container\">\n",
              "    <div>\n",
              "<style scoped>\n",
              "    .dataframe tbody tr th:only-of-type {\n",
              "        vertical-align: middle;\n",
              "    }\n",
              "\n",
              "    .dataframe tbody tr th {\n",
              "        vertical-align: top;\n",
              "    }\n",
              "\n",
              "    .dataframe thead th {\n",
              "        text-align: right;\n",
              "    }\n",
              "</style>\n",
              "<table border=\"1\" class=\"dataframe\">\n",
              "  <thead>\n",
              "    <tr style=\"text-align: right;\">\n",
              "      <th></th>\n",
              "      <th>number_of_elements</th>\n",
              "      <th>mean_atomic_mass</th>\n",
              "      <th>wtd_mean_atomic_mass</th>\n",
              "      <th>gmean_atomic_mass</th>\n",
              "      <th>wtd_gmean_atomic_mass</th>\n",
              "      <th>entropy_atomic_mass</th>\n",
              "      <th>wtd_entropy_atomic_mass</th>\n",
              "      <th>range_atomic_mass</th>\n",
              "      <th>wtd_range_atomic_mass</th>\n",
              "      <th>std_atomic_mass</th>\n",
              "      <th>...</th>\n",
              "      <th>Pt</th>\n",
              "      <th>Au</th>\n",
              "      <th>Hg</th>\n",
              "      <th>Tl</th>\n",
              "      <th>Pb</th>\n",
              "      <th>Bi</th>\n",
              "      <th>Po</th>\n",
              "      <th>At</th>\n",
              "      <th>Rn</th>\n",
              "      <th>material</th>\n",
              "    </tr>\n",
              "  </thead>\n",
              "  <tbody>\n",
              "    <tr>\n",
              "      <th>17005</th>\n",
              "      <td>4</td>\n",
              "      <td>106.957877</td>\n",
              "      <td>53.095769</td>\n",
              "      <td>82.515384</td>\n",
              "      <td>43.135565</td>\n",
              "      <td>1.177145</td>\n",
              "      <td>1.254119</td>\n",
              "      <td>146.88130</td>\n",
              "      <td>15.504479</td>\n",
              "      <td>65.764081</td>\n",
              "      <td>...</td>\n",
              "      <td>0.0</td>\n",
              "      <td>0.0</td>\n",
              "      <td>0.0</td>\n",
              "      <td>0.0</td>\n",
              "      <td>0.0</td>\n",
              "      <td>0.0</td>\n",
              "      <td>0</td>\n",
              "      <td>0</td>\n",
              "      <td>0</td>\n",
              "      <td>Tm0.84Lu0.16Fe3Si5</td>\n",
              "    </tr>\n",
              "    <tr>\n",
              "      <th>17006</th>\n",
              "      <td>5</td>\n",
              "      <td>92.266740</td>\n",
              "      <td>49.021367</td>\n",
              "      <td>64.812662</td>\n",
              "      <td>32.867748</td>\n",
              "      <td>1.323287</td>\n",
              "      <td>1.571630</td>\n",
              "      <td>188.38390</td>\n",
              "      <td>7.353333</td>\n",
              "      <td>69.232655</td>\n",
              "      <td>...</td>\n",
              "      <td>0.0</td>\n",
              "      <td>0.0</td>\n",
              "      <td>0.0</td>\n",
              "      <td>1.0</td>\n",
              "      <td>0.0</td>\n",
              "      <td>0.0</td>\n",
              "      <td>0</td>\n",
              "      <td>0</td>\n",
              "      <td>0</td>\n",
              "      <td>Tl1Ba2Ca3Cu4O11</td>\n",
              "    </tr>\n",
              "    <tr>\n",
              "      <th>17007</th>\n",
              "      <td>2</td>\n",
              "      <td>99.663190</td>\n",
              "      <td>95.609104</td>\n",
              "      <td>99.433882</td>\n",
              "      <td>95.464320</td>\n",
              "      <td>0.690847</td>\n",
              "      <td>0.530198</td>\n",
              "      <td>13.51362</td>\n",
              "      <td>53.041104</td>\n",
              "      <td>6.756810</td>\n",
              "      <td>...</td>\n",
              "      <td>0.0</td>\n",
              "      <td>0.0</td>\n",
              "      <td>0.0</td>\n",
              "      <td>0.0</td>\n",
              "      <td>0.0</td>\n",
              "      <td>0.0</td>\n",
              "      <td>0</td>\n",
              "      <td>0</td>\n",
              "      <td>0</td>\n",
              "      <td>Nb0.8Pd0.2</td>\n",
              "    </tr>\n",
              "    <tr>\n",
              "      <th>17008</th>\n",
              "      <td>2</td>\n",
              "      <td>99.663190</td>\n",
              "      <td>97.095602</td>\n",
              "      <td>99.433882</td>\n",
              "      <td>96.901083</td>\n",
              "      <td>0.690847</td>\n",
              "      <td>0.640883</td>\n",
              "      <td>13.51362</td>\n",
              "      <td>31.115202</td>\n",
              "      <td>6.756810</td>\n",
              "      <td>...</td>\n",
              "      <td>0.0</td>\n",
              "      <td>0.0</td>\n",
              "      <td>0.0</td>\n",
              "      <td>0.0</td>\n",
              "      <td>0.0</td>\n",
              "      <td>0.0</td>\n",
              "      <td>0</td>\n",
              "      <td>0</td>\n",
              "      <td>0</td>\n",
              "      <td>Nb0.69Pd0.31</td>\n",
              "    </tr>\n",
              "    <tr>\n",
              "      <th>17009</th>\n",
              "      <td>3</td>\n",
              "      <td>87.468333</td>\n",
              "      <td>86.858500</td>\n",
              "      <td>82.555758</td>\n",
              "      <td>80.458722</td>\n",
              "      <td>1.041270</td>\n",
              "      <td>0.895229</td>\n",
              "      <td>71.75500</td>\n",
              "      <td>43.144000</td>\n",
              "      <td>29.905282</td>\n",
              "      <td>...</td>\n",
              "      <td>0.0</td>\n",
              "      <td>0.0</td>\n",
              "      <td>0.0</td>\n",
              "      <td>0.0</td>\n",
              "      <td>0.0</td>\n",
              "      <td>0.0</td>\n",
              "      <td>0</td>\n",
              "      <td>0</td>\n",
              "      <td>0</td>\n",
              "      <td>Fe1Se0.2Te0.8</td>\n",
              "    </tr>\n",
              "  </tbody>\n",
              "</table>\n",
              "<p>5 rows × 169 columns</p>\n",
              "</div>\n",
              "    <div class=\"colab-df-buttons\">\n",
              "\n",
              "  <div class=\"colab-df-container\">\n",
              "    <button class=\"colab-df-convert\" onclick=\"convertToInteractive('df-1f8b6b78-c607-4a6a-b021-c7d18682dc6c')\"\n",
              "            title=\"Convert this dataframe to an interactive table.\"\n",
              "            style=\"display:none;\">\n",
              "\n",
              "  <svg xmlns=\"http://www.w3.org/2000/svg\" height=\"24px\" viewBox=\"0 -960 960 960\">\n",
              "    <path d=\"M120-120v-720h720v720H120Zm60-500h600v-160H180v160Zm220 220h160v-160H400v160Zm0 220h160v-160H400v160ZM180-400h160v-160H180v160Zm440 0h160v-160H620v160ZM180-180h160v-160H180v160Zm440 0h160v-160H620v160Z\"/>\n",
              "  </svg>\n",
              "    </button>\n",
              "\n",
              "  <style>\n",
              "    .colab-df-container {\n",
              "      display:flex;\n",
              "      gap: 12px;\n",
              "    }\n",
              "\n",
              "    .colab-df-convert {\n",
              "      background-color: #E8F0FE;\n",
              "      border: none;\n",
              "      border-radius: 50%;\n",
              "      cursor: pointer;\n",
              "      display: none;\n",
              "      fill: #1967D2;\n",
              "      height: 32px;\n",
              "      padding: 0 0 0 0;\n",
              "      width: 32px;\n",
              "    }\n",
              "\n",
              "    .colab-df-convert:hover {\n",
              "      background-color: #E2EBFA;\n",
              "      box-shadow: 0px 1px 2px rgba(60, 64, 67, 0.3), 0px 1px 3px 1px rgba(60, 64, 67, 0.15);\n",
              "      fill: #174EA6;\n",
              "    }\n",
              "\n",
              "    .colab-df-buttons div {\n",
              "      margin-bottom: 4px;\n",
              "    }\n",
              "\n",
              "    [theme=dark] .colab-df-convert {\n",
              "      background-color: #3B4455;\n",
              "      fill: #D2E3FC;\n",
              "    }\n",
              "\n",
              "    [theme=dark] .colab-df-convert:hover {\n",
              "      background-color: #434B5C;\n",
              "      box-shadow: 0px 1px 3px 1px rgba(0, 0, 0, 0.15);\n",
              "      filter: drop-shadow(0px 1px 2px rgba(0, 0, 0, 0.3));\n",
              "      fill: #FFFFFF;\n",
              "    }\n",
              "  </style>\n",
              "\n",
              "    <script>\n",
              "      const buttonEl =\n",
              "        document.querySelector('#df-1f8b6b78-c607-4a6a-b021-c7d18682dc6c button.colab-df-convert');\n",
              "      buttonEl.style.display =\n",
              "        google.colab.kernel.accessAllowed ? 'block' : 'none';\n",
              "\n",
              "      async function convertToInteractive(key) {\n",
              "        const element = document.querySelector('#df-1f8b6b78-c607-4a6a-b021-c7d18682dc6c');\n",
              "        const dataTable =\n",
              "          await google.colab.kernel.invokeFunction('convertToInteractive',\n",
              "                                                    [key], {});\n",
              "        if (!dataTable) return;\n",
              "\n",
              "        const docLinkHtml = 'Like what you see? Visit the ' +\n",
              "          '<a target=\"_blank\" href=https://colab.research.google.com/notebooks/data_table.ipynb>data table notebook</a>'\n",
              "          + ' to learn more about interactive tables.';\n",
              "        element.innerHTML = '';\n",
              "        dataTable['output_type'] = 'display_data';\n",
              "        await google.colab.output.renderOutput(dataTable, element);\n",
              "        const docLink = document.createElement('div');\n",
              "        docLink.innerHTML = docLinkHtml;\n",
              "        element.appendChild(docLink);\n",
              "      }\n",
              "    </script>\n",
              "  </div>\n",
              "\n",
              "\n",
              "<div id=\"df-b588a320-b349-473f-9995-85d2b9699dd4\">\n",
              "  <button class=\"colab-df-quickchart\" onclick=\"quickchart('df-b588a320-b349-473f-9995-85d2b9699dd4')\"\n",
              "            title=\"Suggest charts\"\n",
              "            style=\"display:none;\">\n",
              "\n",
              "<svg xmlns=\"http://www.w3.org/2000/svg\" height=\"24px\"viewBox=\"0 0 24 24\"\n",
              "     width=\"24px\">\n",
              "    <g>\n",
              "        <path d=\"M19 3H5c-1.1 0-2 .9-2 2v14c0 1.1.9 2 2 2h14c1.1 0 2-.9 2-2V5c0-1.1-.9-2-2-2zM9 17H7v-7h2v7zm4 0h-2V7h2v10zm4 0h-2v-4h2v4z\"/>\n",
              "    </g>\n",
              "</svg>\n",
              "  </button>\n",
              "\n",
              "<style>\n",
              "  .colab-df-quickchart {\n",
              "      --bg-color: #E8F0FE;\n",
              "      --fill-color: #1967D2;\n",
              "      --hover-bg-color: #E2EBFA;\n",
              "      --hover-fill-color: #174EA6;\n",
              "      --disabled-fill-color: #AAA;\n",
              "      --disabled-bg-color: #DDD;\n",
              "  }\n",
              "\n",
              "  [theme=dark] .colab-df-quickchart {\n",
              "      --bg-color: #3B4455;\n",
              "      --fill-color: #D2E3FC;\n",
              "      --hover-bg-color: #434B5C;\n",
              "      --hover-fill-color: #FFFFFF;\n",
              "      --disabled-bg-color: #3B4455;\n",
              "      --disabled-fill-color: #666;\n",
              "  }\n",
              "\n",
              "  .colab-df-quickchart {\n",
              "    background-color: var(--bg-color);\n",
              "    border: none;\n",
              "    border-radius: 50%;\n",
              "    cursor: pointer;\n",
              "    display: none;\n",
              "    fill: var(--fill-color);\n",
              "    height: 32px;\n",
              "    padding: 0;\n",
              "    width: 32px;\n",
              "  }\n",
              "\n",
              "  .colab-df-quickchart:hover {\n",
              "    background-color: var(--hover-bg-color);\n",
              "    box-shadow: 0 1px 2px rgba(60, 64, 67, 0.3), 0 1px 3px 1px rgba(60, 64, 67, 0.15);\n",
              "    fill: var(--button-hover-fill-color);\n",
              "  }\n",
              "\n",
              "  .colab-df-quickchart-complete:disabled,\n",
              "  .colab-df-quickchart-complete:disabled:hover {\n",
              "    background-color: var(--disabled-bg-color);\n",
              "    fill: var(--disabled-fill-color);\n",
              "    box-shadow: none;\n",
              "  }\n",
              "\n",
              "  .colab-df-spinner {\n",
              "    border: 2px solid var(--fill-color);\n",
              "    border-color: transparent;\n",
              "    border-bottom-color: var(--fill-color);\n",
              "    animation:\n",
              "      spin 1s steps(1) infinite;\n",
              "  }\n",
              "\n",
              "  @keyframes spin {\n",
              "    0% {\n",
              "      border-color: transparent;\n",
              "      border-bottom-color: var(--fill-color);\n",
              "      border-left-color: var(--fill-color);\n",
              "    }\n",
              "    20% {\n",
              "      border-color: transparent;\n",
              "      border-left-color: var(--fill-color);\n",
              "      border-top-color: var(--fill-color);\n",
              "    }\n",
              "    30% {\n",
              "      border-color: transparent;\n",
              "      border-left-color: var(--fill-color);\n",
              "      border-top-color: var(--fill-color);\n",
              "      border-right-color: var(--fill-color);\n",
              "    }\n",
              "    40% {\n",
              "      border-color: transparent;\n",
              "      border-right-color: var(--fill-color);\n",
              "      border-top-color: var(--fill-color);\n",
              "    }\n",
              "    60% {\n",
              "      border-color: transparent;\n",
              "      border-right-color: var(--fill-color);\n",
              "    }\n",
              "    80% {\n",
              "      border-color: transparent;\n",
              "      border-right-color: var(--fill-color);\n",
              "      border-bottom-color: var(--fill-color);\n",
              "    }\n",
              "    90% {\n",
              "      border-color: transparent;\n",
              "      border-bottom-color: var(--fill-color);\n",
              "    }\n",
              "  }\n",
              "</style>\n",
              "\n",
              "  <script>\n",
              "    async function quickchart(key) {\n",
              "      const quickchartButtonEl =\n",
              "        document.querySelector('#' + key + ' button');\n",
              "      quickchartButtonEl.disabled = true;  // To prevent multiple clicks.\n",
              "      quickchartButtonEl.classList.add('colab-df-spinner');\n",
              "      try {\n",
              "        const charts = await google.colab.kernel.invokeFunction(\n",
              "            'suggestCharts', [key], {});\n",
              "      } catch (error) {\n",
              "        console.error('Error during call to suggestCharts:', error);\n",
              "      }\n",
              "      quickchartButtonEl.classList.remove('colab-df-spinner');\n",
              "      quickchartButtonEl.classList.add('colab-df-quickchart-complete');\n",
              "    }\n",
              "    (() => {\n",
              "      let quickchartButtonEl =\n",
              "        document.querySelector('#df-b588a320-b349-473f-9995-85d2b9699dd4 button');\n",
              "      quickchartButtonEl.style.display =\n",
              "        google.colab.kernel.accessAllowed ? 'block' : 'none';\n",
              "    })();\n",
              "  </script>\n",
              "</div>\n",
              "    </div>\n",
              "  </div>\n"
            ]
          },
          "metadata": {},
          "execution_count": 28
        }
      ]
    },
    {
      "cell_type": "code",
      "source": [
        "n = 5\n",
        "print(df_train.iloc[:, n].name)\n",
        "sns.boxplot(df_train['critical_temp'].values)"
      ],
      "metadata": {
        "colab": {
          "base_uri": "https://localhost:8080/",
          "height": 446
        },
        "id": "LCkDbtPbs2KO",
        "outputId": "fa8efe9d-72f2-40b0-b86d-66598486e11c"
      },
      "execution_count": null,
      "outputs": [
        {
          "output_type": "stream",
          "name": "stdout",
          "text": [
            "entropy_atomic_mass\n"
          ]
        },
        {
          "output_type": "execute_result",
          "data": {
            "text/plain": [
              "<Axes: >"
            ]
          },
          "metadata": {},
          "execution_count": 5
        },
        {
          "output_type": "display_data",
          "data": {
            "text/plain": [
              "<Figure size 640x480 with 1 Axes>"
            ],
            "image/png": "[encoded data removed]"
          },
          "metadata": {}
        }
      ]
    },
    {
      "cell_type": "code",
      "source": [
        "# смотрим с ем коррелирует температура\n",
        "temp_cor = df_train.corr()['critical_temp']"
      ],
      "metadata": {
        "colab": {
          "base_uri": "https://localhost:8080/"
        },
        "id": "ejPmEWzfMmC4",
        "outputId": "3f5f2ca7-4bc0-4618-a172-0b410fa7eadc"
      },
      "execution_count": 6,
      "outputs": [
        {
          "output_type": "stream",
          "name": "stderr",
          "text": [
            "<ipython-input-6-63437df1c1ca>:2: FutureWarning: The default value of numeric_only in DataFrame.corr is deprecated. In a future version, it will default to False. Select only valid columns or specify the value of numeric_only to silence this warning.\n",
            "  temp_cor = df_train.corr()['critical_temp']\n"
          ]
        }
      ]
    },
    {
      "cell_type": "code",
      "source": [
        "# оставляем индексы, которые соответствуют корреляции большей заданной\n",
        "indexes = temp_cor[np.abs(temp_cor) > cor_value].index\n",
        "indexes"
      ],
      "metadata": {
        "colab": {
          "base_uri": "https://localhost:8080/"
        },
        "id": "LUyUA2XZUP-h",
        "outputId": "fd9640c9-59cb-4926-8029-edf1f82b5666"
      },
      "execution_count": 7,
      "outputs": [
        {
          "output_type": "execute_result",
          "data": {
            "text/plain": [
              "Index(['number_of_elements', 'wtd_mean_atomic_mass', 'gmean_atomic_mass',\n",
              "       'wtd_gmean_atomic_mass', 'entropy_atomic_mass',\n",
              "       'wtd_entropy_atomic_mass', 'range_atomic_mass', 'wtd_range_atomic_mass',\n",
              "       'std_atomic_mass', 'wtd_std_atomic_mass', 'wtd_mean_fie',\n",
              "       'wtd_gmean_fie', 'entropy_fie', 'wtd_entropy_fie', 'range_fie',\n",
              "       'wtd_range_fie', 'std_fie', 'wtd_std_fie', 'wtd_mean_atomic_radius',\n",
              "       'gmean_atomic_radius', 'wtd_gmean_atomic_radius',\n",
              "       'entropy_atomic_radius', 'wtd_entropy_atomic_radius',\n",
              "       'range_atomic_radius', 'wtd_range_atomic_radius', 'std_atomic_radius',\n",
              "       'wtd_std_atomic_radius', 'mean_Density', 'wtd_mean_Density',\n",
              "       'gmean_Density', 'wtd_gmean_Density', 'entropy_Density',\n",
              "       'wtd_entropy_Density', 'range_Density', 'wtd_range_Density',\n",
              "       'std_Density', 'wtd_std_Density', 'mean_ElectronAffinity',\n",
              "       'gmean_ElectronAffinity', 'entropy_ElectronAffinity',\n",
              "       'wtd_entropy_ElectronAffinity', 'range_ElectronAffinity',\n",
              "       'wtd_range_ElectronAffinity', 'std_ElectronAffinity',\n",
              "       'wtd_std_ElectronAffinity', 'mean_FusionHeat', 'wtd_mean_FusionHeat',\n",
              "       'gmean_FusionHeat', 'wtd_gmean_FusionHeat', 'entropy_FusionHeat',\n",
              "       'wtd_entropy_FusionHeat', 'range_FusionHeat', 'wtd_range_FusionHeat',\n",
              "       'std_FusionHeat', 'wtd_std_FusionHeat', 'mean_ThermalConductivity',\n",
              "       'wtd_mean_ThermalConductivity', 'gmean_ThermalConductivity',\n",
              "       'wtd_gmean_ThermalConductivity', 'range_ThermalConductivity',\n",
              "       'wtd_range_ThermalConductivity', 'std_ThermalConductivity',\n",
              "       'wtd_std_ThermalConductivity', 'mean_Valence', 'wtd_mean_Valence',\n",
              "       'gmean_Valence', 'wtd_gmean_Valence', 'entropy_Valence',\n",
              "       'wtd_entropy_Valence', 'range_Valence', 'wtd_range_Valence',\n",
              "       'std_Valence', 'wtd_std_Valence', 'critical_temp', 'O', 'Ca', 'Cu',\n",
              "       'Sr', 'Y', 'Ba', 'Hg', 'Tl', 'Bi'],\n",
              "      dtype='object')"
            ]
          },
          "metadata": {},
          "execution_count": 7
        }
      ]
    },
    {
      "cell_type": "code",
      "source": [
        "# создаем датафрейм на основе отобранных столбцов\n",
        "data_train = df_train[indexes]\n",
        "# data_train"
      ],
      "metadata": {
        "id": "oO-jkKygUuXM"
      },
      "execution_count": 8,
      "outputs": []
    },
    {
      "cell_type": "code",
      "source": [
        "# разделяем данные на признаки и значения\n",
        "\n",
        "y = data_train['critical_temp']\n",
        "x = data_train.drop(columns=['critical_temp'])\n",
        "\n",
        "try:\n",
        "    del x['material']\n",
        "except:\n",
        "    pass"
      ],
      "metadata": {
        "id": "v3XoSpgqHnjO"
      },
      "execution_count": 9,
      "outputs": []
    },
    {
      "cell_type": "code",
      "source": [
        "# разделяем данные на для обучения и для прроверки обучения\n",
        "x_train, x_test, y_train, y_test = train_test_split(x, y, test_size=test_size)"
      ],
      "metadata": {
        "id": "OzwHZJnGM73d"
      },
      "execution_count": 10,
      "outputs": []
    },
    {
      "cell_type": "code",
      "source": [
        "# используем и обучаем модель\n",
        "model = LinearRegression()\n",
        "\n",
        "model.fit(x_train, y_train)"
      ],
      "metadata": {
        "colab": {
          "base_uri": "https://localhost:8080/",
          "height": 75
        },
        "id": "Ip3qvXzsLQ-C",
        "outputId": "5d43f3b6-e6d9-4e7d-e9c8-3062df9ce733"
      },
      "execution_count": 11,
      "outputs": [
        {
          "output_type": "execute_result",
          "data": {
            "text/plain": [
              "LinearRegression()"
            ],
            "text/html": [
              "<style>#sk-container-id-1 {color: black;background-color: white;}#sk-container-id-1 pre{padding: 0;}#sk-container-id-1 div.sk-toggleable {background-color: white;}#sk-container-id-1 label.sk-toggleable__label {cursor: pointer;display: block;width: 100%;margin-bottom: 0;padding: 0.3em;box-sizing: border-box;text-align: center;}#sk-container-id-1 label.sk-toggleable__label-arrow:before {content: \"▸\";float: left;margin-right: 0.25em;color: #696969;}#sk-container-id-1 label.sk-toggleable__label-arrow:hover:before {color: black;}#sk-container-id-1 div.sk-estimator:hover label.sk-toggleable__label-arrow:before {color: black;}#sk-container-id-1 div.sk-toggleable__content {max-height: 0;max-width: 0;overflow: hidden;text-align: left;background-color: #f0f8ff;}#sk-container-id-1 div.sk-toggleable__content pre {margin: 0.2em;color: black;border-radius: 0.25em;background-color: #f0f8ff;}#sk-container-id-1 input.sk-toggleable__control:checked~div.sk-toggleable__content {max-height: 200px;max-width: 100%;overflow: auto;}#sk-container-id-1 input.sk-toggleable__control:checked~label.sk-toggleable__label-arrow:before {content: \"▾\";}#sk-container-id-1 div.sk-estimator input.sk-toggleable__control:checked~label.sk-toggleable__label {background-color: #d4ebff;}#sk-container-id-1 div.sk-label input.sk-toggleable__control:checked~label.sk-toggleable__label {background-color: #d4ebff;}#sk-container-id-1 input.sk-hidden--visually {border: 0;clip: rect(1px 1px 1px 1px);clip: rect(1px, 1px, 1px, 1px);height: 1px;margin: -1px;overflow: hidden;padding: 0;position: absolute;width: 1px;}#sk-container-id-1 div.sk-estimator {font-family: monospace;background-color: #f0f8ff;border: 1px dotted black;border-radius: 0.25em;box-sizing: border-box;margin-bottom: 0.5em;}#sk-container-id-1 div.sk-estimator:hover {background-color: #d4ebff;}#sk-container-id-1 div.sk-parallel-item::after {content: \"\";width: 100%;border-bottom: 1px solid gray;flex-grow: 1;}#sk-container-id-1 div.sk-label:hover label.sk-toggleable__label {background-color: #d4ebff;}#sk-container-id-1 div.sk-serial::before {content: \"\";position: absolute;border-left: 1px solid gray;box-sizing: border-box;top: 0;bottom: 0;left: 50%;z-index: 0;}#sk-container-id-1 div.sk-serial {display: flex;flex-direction: column;align-items: center;background-color: white;padding-right: 0.2em;padding-left: 0.2em;position: relative;}#sk-container-id-1 div.sk-item {position: relative;z-index: 1;}#sk-container-id-1 div.sk-parallel {display: flex;align-items: stretch;justify-content: center;background-color: white;position: relative;}#sk-container-id-1 div.sk-item::before, #sk-container-id-1 div.sk-parallel-item::before {content: \"\";position: absolute;border-left: 1px solid gray;box-sizing: border-box;top: 0;bottom: 0;left: 50%;z-index: -1;}#sk-container-id-1 div.sk-parallel-item {display: flex;flex-direction: column;z-index: 1;position: relative;background-color: white;}#sk-container-id-1 div.sk-parallel-item:first-child::after {align-self: flex-end;width: 50%;}#sk-container-id-1 div.sk-parallel-item:last-child::after {align-self: flex-start;width: 50%;}#sk-container-id-1 div.sk-parallel-item:only-child::after {width: 0;}#sk-container-id-1 div.sk-dashed-wrapped {border: 1px dashed gray;margin: 0 0.4em 0.5em 0.4em;box-sizing: border-box;padding-bottom: 0.4em;background-color: white;}#sk-container-id-1 div.sk-label label {font-family: monospace;font-weight: bold;display: inline-block;line-height: 1.2em;}#sk-container-id-1 div.sk-label-container {text-align: center;}#sk-container-id-1 div.sk-container {/* jupyter's `normalize.less` sets `[hidden] { display: none; }` but bootstrap.min.css set `[hidden] { display: none !important; }` so we also need the `!important` here to be able to override the default hidden behavior on the sphinx rendered scikit-learn.org. See: https://github.com/scikit-learn/scikit-learn/issues/21755 */display: inline-block !important;position: relative;}#sk-container-id-1 div.sk-text-repr-fallback {display: none;}</style><div id=\"sk-container-id-1\" class=\"sk-top-container\"><div class=\"sk-text-repr-fallback\"><pre>LinearRegression()</pre><b>In a Jupyter environment, please rerun this cell to show the HTML representation or trust the notebook. <br />On GitHub, the HTML representation is unable to render, please try loading this page with nbviewer.org.</b></div><div class=\"sk-container\" hidden><div class=\"sk-item\"><div class=\"sk-estimator sk-toggleable\"><input class=\"sk-toggleable__control sk-hidden--visually\" id=\"sk-estimator-id-1\" type=\"checkbox\" checked><label for=\"sk-estimator-id-1\" class=\"sk-toggleable__label sk-toggleable__label-arrow\">LinearRegression</label><div class=\"sk-toggleable__content\"><pre>LinearRegression()</pre></div></div></div></div></div>"
            ]
          },
          "metadata": {},
          "execution_count": 11
        }
      ]
    },
    {
      "cell_type": "code",
      "source": [
        "# предсказываем значения с помощью обученной модели и данных, не использованных в обучении\n",
        "y_pred = model.predict(x_test)"
      ],
      "metadata": {
        "id": "HmdopJBLOB-J"
      },
      "execution_count": 12,
      "outputs": []
    },
    {
      "cell_type": "code",
      "source": [
        "# смотрим на результат предсказания\n",
        "y_pred"
      ],
      "metadata": {
        "colab": {
          "base_uri": "https://localhost:8080/"
        },
        "id": "ZaAOzwFKPPLH",
        "outputId": "c2e32a53-6901-41ee-c9d5-b8169d3cbf7b"
      },
      "execution_count": 13,
      "outputs": [
        {
          "output_type": "execute_result",
          "data": {
            "text/plain": [
              "array([ 71.4410043 ,  65.86695304, 119.42809826, ...,  -2.48681843,\n",
              "       -32.37236313,  80.75874802])"
            ]
          },
          "metadata": {},
          "execution_count": 13
        }
      ]
    },
    {
      "cell_type": "code",
      "source": [
        "# смотрим на температуру, которая должна была получиться\n",
        "np.array(y_test)"
      ],
      "metadata": {
        "colab": {
          "base_uri": "https://localhost:8080/"
        },
        "id": "Vxeli6RCPUOA",
        "outputId": "3bb688fc-8582-43f5-e6a1-5e6635162937"
      },
      "execution_count": 14,
      "outputs": [
        {
          "output_type": "execute_result",
          "data": {
            "text/plain": [
              "array([ 86.2,  88.5, 106.9, ...,  13.9,   4. ,  89. ])"
            ]
          },
          "metadata": {},
          "execution_count": 14
        }
      ]
    },
    {
      "cell_type": "code",
      "source": [
        "print(f'r2 = {r2_score(y_test, y_pred)}')\n",
        "print(f'MSE = {(t := mean_squared_error(y_test, y_pred))}')\n",
        "print(f'RRMSE = {np.sqrt(t / np.sum(pow(y_pred, 2))) * 100}%')"
      ],
      "metadata": {
        "colab": {
          "base_uri": "https://localhost:8080/"
        },
        "id": "waC2ggb5PwUv",
        "outputId": "a33fd1c7-ebc8-44fe-f56c-f6f9f0792968"
      },
      "execution_count": 15,
      "outputs": [
        {
          "output_type": "stream",
          "name": "stdout",
          "text": [
            "r2 = 0.7505241045698249\n",
            "MSE = 306.3981398600586\n",
            "RRMSE = 0.6517159177148354%\n"
          ]
        }
      ]
    },
    {
      "cell_type": "markdown",
      "source": [
        "# Используем обученную модель на тестовых данных"
      ],
      "metadata": {
        "id": "8CcBO5yxG4fQ"
      }
    },
    {
      "cell_type": "code",
      "source": [
        "new_ind = [i for i in np.array(indexes) if i != 'critical_temp']\n",
        "x1 = df_test[new_ind]\n",
        "try:\n",
        "    del x1['material']\n",
        "except:\n",
        "    pass"
      ],
      "metadata": {
        "id": "2Vm5wbu4X6O9"
      },
      "execution_count": 16,
      "outputs": []
    },
    {
      "cell_type": "code",
      "source": [
        "model = LinearRegression()\n",
        "\n",
        "model.fit(x, y)\n",
        "\n",
        "temperature = model.predict(x1)"
      ],
      "metadata": {
        "id": "0Bf0uaJfHbhg"
      },
      "execution_count": 17,
      "outputs": []
    },
    {
      "cell_type": "code",
      "source": [
        "temperature"
      ],
      "metadata": {
        "colab": {
          "base_uri": "https://localhost:8080/"
        },
        "id": "NzxSrWaAIDS5",
        "outputId": "082caf9d-65c0-4a94-fea8-5de4db5279ef"
      },
      "execution_count": 18,
      "outputs": [
        {
          "output_type": "execute_result",
          "data": {
            "text/plain": [
              "array([45.36390378, 27.17556691, 72.40348785, ..., -0.92727615,\n",
              "       17.03338962, 17.03338962])"
            ]
          },
          "metadata": {},
          "execution_count": 18
        }
      ]
    },
    {
      "cell_type": "code",
      "source": [
        "df_test['critical_temp'] = temperature"
      ],
      "metadata": {
        "id": "pbMKwPs8IEee"
      },
      "execution_count": 19,
      "outputs": []
    },
    {
      "cell_type": "code",
      "source": [
        "df_test['critical_temp']"
      ],
      "metadata": {
        "id": "7KG9DgLpYEpq"
      },
      "execution_count": null,
      "outputs": []
    },
    {
      "cell_type": "code",
      "source": [
        "# df_test['critical_temp'].to_csv('predict.csv', sep=';', index=False)"
      ],
      "metadata": {
        "id": "QG5CNR17y4fz"
      },
      "execution_count": null,
      "outputs": []
    }
  ]
}
