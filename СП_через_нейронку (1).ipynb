{
  "nbformat": 4,
  "nbformat_minor": 0,
  "metadata": {
    "colab": {
      "provenance": []
    },
    "kernelspec": {
      "name": "python3",
      "display_name": "Python 3"
    },
    "language_info": {
      "name": "python"
    }
  },
  "cells": [
    {
      "cell_type": "code",
      "execution_count": null,
      "metadata": {
        "id": "MVpxpLdIqQMl"
      },
      "outputs": [],
      "source": [
        "import numpy as np\n",
        "import pandas as pd\n",
        "import torch\n",
        "from sklearn.linear_model import LinearRegression, Ridge, ElasticNet, Lasso\n",
        "from sklearn.metrics import mean_squared_error, r2_score\n",
        "from sklearn.model_selection import train_test_split\n",
        "\n",
        "from matplotlib import pyplot as plt\n",
        "import seaborn as sns"
      ]
    },
    {
      "cell_type": "code",
      "source": [
        "train = pd.read_csv('train.csv.zip')\n",
        "test = pd.read_csv('test.csv.zip')\n",
        "f_test = pd.read_csv('formula_test.csv.zip')\n",
        "f_train = pd.read_csv('formula_train.csv.zip')\n",
        "\n",
        "test_size = 0.2"
      ],
      "metadata": {
        "id": "vW73y4tVqW_L"
      },
      "execution_count": null,
      "outputs": []
    },
    {
      "cell_type": "code",
      "source": [
        "del f_train['critical_temp']\n",
        "\n",
        "# соединяем признаки в один фрэйм\n",
        "df_train = pd.concat([train, f_train], axis=1)\n",
        "df_test = pd.concat([test, f_test], axis=1)"
      ],
      "metadata": {
        "id": "R4GHsmIKq-t4"
      },
      "execution_count": null,
      "outputs": []
    },
    {
      "cell_type": "code",
      "source": [
        "df_train.head()"
      ],
      "metadata": {
        "colab": {
          "base_uri": "https://localhost:8080/",
          "height": 256
        },
        "id": "swOETDVktBSe",
        "outputId": "ebedbcc5-2f4d-4ac3-c2d0-6ff641614b6b"
      },
      "execution_count": null,
      "outputs": [
        {
          "output_type": "execute_result",
          "data": {
            "text/plain": [
              "   number_of_elements  mean_atomic_mass  wtd_mean_atomic_mass  \\\n",
              "0                   4         88.944468             57.862692   \n",
              "1                   5         92.729214             58.518416   \n",
              "2                   4         88.944468             57.885242   \n",
              "3                   4         88.944468             57.873967   \n",
              "4                   4         88.944468             57.840143   \n",
              "\n",
              "   gmean_atomic_mass  wtd_gmean_atomic_mass  entropy_atomic_mass  \\\n",
              "0          66.361592              36.116612             1.181795   \n",
              "1          73.132787              36.396602             1.449309   \n",
              "2          66.361592              36.122509             1.181795   \n",
              "3          66.361592              36.119560             1.181795   \n",
              "4          66.361592              36.110716             1.181795   \n",
              "\n",
              "   wtd_entropy_atomic_mass  range_atomic_mass  wtd_range_atomic_mass  \\\n",
              "0                 1.062396          122.90607              31.794921   \n",
              "1                 1.057755          122.90607              36.161939   \n",
              "2                 0.975980          122.90607              35.741099   \n",
              "3                 1.022291          122.90607              33.768010   \n",
              "4                 1.129224          122.90607              27.848743   \n",
              "\n",
              "   std_atomic_mass  ...   Pt   Au   Hg   Tl   Pb   Bi  Po  At  Rn  \\\n",
              "0        51.968828  ...  0.0  0.0  0.0  0.0  0.0  0.0   0   0   0   \n",
              "1        47.094633  ...  0.0  0.0  0.0  0.0  0.0  0.0   0   0   0   \n",
              "2        51.968828  ...  0.0  0.0  0.0  0.0  0.0  0.0   0   0   0   \n",
              "3        51.968828  ...  0.0  0.0  0.0  0.0  0.0  0.0   0   0   0   \n",
              "4        51.968828  ...  0.0  0.0  0.0  0.0  0.0  0.0   0   0   0   \n",
              "\n",
              "                 material  \n",
              "0         Ba0.2La1.8Cu1O4  \n",
              "1  Ba0.1La1.9Ag0.1Cu0.9O4  \n",
              "2         Ba0.1La1.9Cu1O4  \n",
              "3       Ba0.15La1.85Cu1O4  \n",
              "4         Ba0.3La1.7Cu1O4  \n",
              "\n",
              "[5 rows x 169 columns]"
            ],
            "text/html": [
              "\n",
              "  <div id=\"df-aff430f8-b309-4527-b39b-76d4eb106cb9\" class=\"colab-df-container\">\n",
              "    <div>\n",
              "<style scoped>\n",
              "    .dataframe tbody tr th:only-of-type {\n",
              "        vertical-align: middle;\n",
              "    }\n",
              "\n",
              "    .dataframe tbody tr th {\n",
              "        vertical-align: top;\n",
              "    }\n",
              "\n",
              "    .dataframe thead th {\n",
              "        text-align: right;\n",
              "    }\n",
              "</style>\n",
              "<table border=\"1\" class=\"dataframe\">\n",
              "  <thead>\n",
              "    <tr style=\"text-align: right;\">\n",
              "      <th></th>\n",
              "      <th>number_of_elements</th>\n",
              "      <th>mean_atomic_mass</th>\n",
              "      <th>wtd_mean_atomic_mass</th>\n",
              "      <th>gmean_atomic_mass</th>\n",
              "      <th>wtd_gmean_atomic_mass</th>\n",
              "      <th>entropy_atomic_mass</th>\n",
              "      <th>wtd_entropy_atomic_mass</th>\n",
              "      <th>range_atomic_mass</th>\n",
              "      <th>wtd_range_atomic_mass</th>\n",
              "      <th>std_atomic_mass</th>\n",
              "      <th>...</th>\n",
              "      <th>Pt</th>\n",
              "      <th>Au</th>\n",
              "      <th>Hg</th>\n",
              "      <th>Tl</th>\n",
              "      <th>Pb</th>\n",
              "      <th>Bi</th>\n",
              "      <th>Po</th>\n",
              "      <th>At</th>\n",
              "      <th>Rn</th>\n",
              "      <th>material</th>\n",
              "    </tr>\n",
              "  </thead>\n",
              "  <tbody>\n",
              "    <tr>\n",
              "      <th>0</th>\n",
              "      <td>4</td>\n",
              "      <td>88.944468</td>\n",
              "      <td>57.862692</td>\n",
              "      <td>66.361592</td>\n",
              "      <td>36.116612</td>\n",
              "      <td>1.181795</td>\n",
              "      <td>1.062396</td>\n",
              "      <td>122.90607</td>\n",
              "      <td>31.794921</td>\n",
              "      <td>51.968828</td>\n",
              "      <td>...</td>\n",
              "      <td>0.0</td>\n",
              "      <td>0.0</td>\n",
              "      <td>0.0</td>\n",
              "      <td>0.0</td>\n",
              "      <td>0.0</td>\n",
              "      <td>0.0</td>\n",
              "      <td>0</td>\n",
              "      <td>0</td>\n",
              "      <td>0</td>\n",
              "      <td>Ba0.2La1.8Cu1O4</td>\n",
              "    </tr>\n",
              "    <tr>\n",
              "      <th>1</th>\n",
              "      <td>5</td>\n",
              "      <td>92.729214</td>\n",
              "      <td>58.518416</td>\n",
              "      <td>73.132787</td>\n",
              "      <td>36.396602</td>\n",
              "      <td>1.449309</td>\n",
              "      <td>1.057755</td>\n",
              "      <td>122.90607</td>\n",
              "      <td>36.161939</td>\n",
              "      <td>47.094633</td>\n",
              "      <td>...</td>\n",
              "      <td>0.0</td>\n",
              "      <td>0.0</td>\n",
              "      <td>0.0</td>\n",
              "      <td>0.0</td>\n",
              "      <td>0.0</td>\n",
              "      <td>0.0</td>\n",
              "      <td>0</td>\n",
              "      <td>0</td>\n",
              "      <td>0</td>\n",
              "      <td>Ba0.1La1.9Ag0.1Cu0.9O4</td>\n",
              "    </tr>\n",
              "    <tr>\n",
              "      <th>2</th>\n",
              "      <td>4</td>\n",
              "      <td>88.944468</td>\n",
              "      <td>57.885242</td>\n",
              "      <td>66.361592</td>\n",
              "      <td>36.122509</td>\n",
              "      <td>1.181795</td>\n",
              "      <td>0.975980</td>\n",
              "      <td>122.90607</td>\n",
              "      <td>35.741099</td>\n",
              "      <td>51.968828</td>\n",
              "      <td>...</td>\n",
              "      <td>0.0</td>\n",
              "      <td>0.0</td>\n",
              "      <td>0.0</td>\n",
              "      <td>0.0</td>\n",
              "      <td>0.0</td>\n",
              "      <td>0.0</td>\n",
              "      <td>0</td>\n",
              "      <td>0</td>\n",
              "      <td>0</td>\n",
              "      <td>Ba0.1La1.9Cu1O4</td>\n",
              "    </tr>\n",
              "    <tr>\n",
              "      <th>3</th>\n",
              "      <td>4</td>\n",
              "      <td>88.944468</td>\n",
              "      <td>57.873967</td>\n",
              "      <td>66.361592</td>\n",
              "      <td>36.119560</td>\n",
              "      <td>1.181795</td>\n",
              "      <td>1.022291</td>\n",
              "      <td>122.90607</td>\n",
              "      <td>33.768010</td>\n",
              "      <td>51.968828</td>\n",
              "      <td>...</td>\n",
              "      <td>0.0</td>\n",
              "      <td>0.0</td>\n",
              "      <td>0.0</td>\n",
              "      <td>0.0</td>\n",
              "      <td>0.0</td>\n",
              "      <td>0.0</td>\n",
              "      <td>0</td>\n",
              "      <td>0</td>\n",
              "      <td>0</td>\n",
              "      <td>Ba0.15La1.85Cu1O4</td>\n",
              "    </tr>\n",
              "    <tr>\n",
              "      <th>4</th>\n",
              "      <td>4</td>\n",
              "      <td>88.944468</td>\n",
              "      <td>57.840143</td>\n",
              "      <td>66.361592</td>\n",
              "      <td>36.110716</td>\n",
              "      <td>1.181795</td>\n",
              "      <td>1.129224</td>\n",
              "      <td>122.90607</td>\n",
              "      <td>27.848743</td>\n",
              "      <td>51.968828</td>\n",
              "      <td>...</td>\n",
              "      <td>0.0</td>\n",
              "      <td>0.0</td>\n",
              "      <td>0.0</td>\n",
              "      <td>0.0</td>\n",
              "      <td>0.0</td>\n",
              "      <td>0.0</td>\n",
              "      <td>0</td>\n",
              "      <td>0</td>\n",
              "      <td>0</td>\n",
              "      <td>Ba0.3La1.7Cu1O4</td>\n",
              "    </tr>\n",
              "  </tbody>\n",
              "</table>\n",
              "<p>5 rows × 169 columns</p>\n",
              "</div>\n",
              "    <div class=\"colab-df-buttons\">\n",
              "\n",
              "  <div class=\"colab-df-container\">\n",
              "    <button class=\"colab-df-convert\" onclick=\"convertToInteractive('df-aff430f8-b309-4527-b39b-76d4eb106cb9')\"\n",
              "            title=\"Convert this dataframe to an interactive table.\"\n",
              "            style=\"display:none;\">\n",
              "\n",
              "  <svg xmlns=\"http://www.w3.org/2000/svg\" height=\"24px\" viewBox=\"0 -960 960 960\">\n",
              "    <path d=\"M120-120v-720h720v720H120Zm60-500h600v-160H180v160Zm220 220h160v-160H400v160Zm0 220h160v-160H400v160ZM180-400h160v-160H180v160Zm440 0h160v-160H620v160ZM180-180h160v-160H180v160Zm440 0h160v-160H620v160Z\"/>\n",
              "  </svg>\n",
              "    </button>\n",
              "\n",
              "  <style>\n",
              "    .colab-df-container {\n",
              "      display:flex;\n",
              "      gap: 12px;\n",
              "    }\n",
              "\n",
              "    .colab-df-convert {\n",
              "      background-color: #E8F0FE;\n",
              "      border: none;\n",
              "      border-radius: 50%;\n",
              "      cursor: pointer;\n",
              "      display: none;\n",
              "      fill: #1967D2;\n",
              "      height: 32px;\n",
              "      padding: 0 0 0 0;\n",
              "      width: 32px;\n",
              "    }\n",
              "\n",
              "    .colab-df-convert:hover {\n",
              "      background-color: #E2EBFA;\n",
              "      box-shadow: 0px 1px 2px rgba(60, 64, 67, 0.3), 0px 1px 3px 1px rgba(60, 64, 67, 0.15);\n",
              "      fill: #174EA6;\n",
              "    }\n",
              "\n",
              "    .colab-df-buttons div {\n",
              "      margin-bottom: 4px;\n",
              "    }\n",
              "\n",
              "    [theme=dark] .colab-df-convert {\n",
              "      background-color: #3B4455;\n",
              "      fill: #D2E3FC;\n",
              "    }\n",
              "\n",
              "    [theme=dark] .colab-df-convert:hover {\n",
              "      background-color: #434B5C;\n",
              "      box-shadow: 0px 1px 3px 1px rgba(0, 0, 0, 0.15);\n",
              "      filter: drop-shadow(0px 1px 2px rgba(0, 0, 0, 0.3));\n",
              "      fill: #FFFFFF;\n",
              "    }\n",
              "  </style>\n",
              "\n",
              "    <script>\n",
              "      const buttonEl =\n",
              "        document.querySelector('#df-aff430f8-b309-4527-b39b-76d4eb106cb9 button.colab-df-convert');\n",
              "      buttonEl.style.display =\n",
              "        google.colab.kernel.accessAllowed ? 'block' : 'none';\n",
              "\n",
              "      async function convertToInteractive(key) {\n",
              "        const element = document.querySelector('#df-aff430f8-b309-4527-b39b-76d4eb106cb9');\n",
              "        const dataTable =\n",
              "          await google.colab.kernel.invokeFunction('convertToInteractive',\n",
              "                                                    [key], {});\n",
              "        if (!dataTable) return;\n",
              "\n",
              "        const docLinkHtml = 'Like what you see? Visit the ' +\n",
              "          '<a target=\"_blank\" href=https://colab.research.google.com/notebooks/data_table.ipynb>data table notebook</a>'\n",
              "          + ' to learn more about interactive tables.';\n",
              "        element.innerHTML = '';\n",
              "        dataTable['output_type'] = 'display_data';\n",
              "        await google.colab.output.renderOutput(dataTable, element);\n",
              "        const docLink = document.createElement('div');\n",
              "        docLink.innerHTML = docLinkHtml;\n",
              "        element.appendChild(docLink);\n",
              "      }\n",
              "    </script>\n",
              "  </div>\n",
              "\n",
              "\n",
              "<div id=\"df-0fee3e01-6c8a-4b93-833b-87c4d30af1be\">\n",
              "  <button class=\"colab-df-quickchart\" onclick=\"quickchart('df-0fee3e01-6c8a-4b93-833b-87c4d30af1be')\"\n",
              "            title=\"Suggest charts\"\n",
              "            style=\"display:none;\">\n",
              "\n",
              "<svg xmlns=\"http://www.w3.org/2000/svg\" height=\"24px\"viewBox=\"0 0 24 24\"\n",
              "     width=\"24px\">\n",
              "    <g>\n",
              "        <path d=\"M19 3H5c-1.1 0-2 .9-2 2v14c0 1.1.9 2 2 2h14c1.1 0 2-.9 2-2V5c0-1.1-.9-2-2-2zM9 17H7v-7h2v7zm4 0h-2V7h2v10zm4 0h-2v-4h2v4z\"/>\n",
              "    </g>\n",
              "</svg>\n",
              "  </button>\n",
              "\n",
              "<style>\n",
              "  .colab-df-quickchart {\n",
              "      --bg-color: #E8F0FE;\n",
              "      --fill-color: #1967D2;\n",
              "      --hover-bg-color: #E2EBFA;\n",
              "      --hover-fill-color: #174EA6;\n",
              "      --disabled-fill-color: #AAA;\n",
              "      --disabled-bg-color: #DDD;\n",
              "  }\n",
              "\n",
              "  [theme=dark] .colab-df-quickchart {\n",
              "      --bg-color: #3B4455;\n",
              "      --fill-color: #D2E3FC;\n",
              "      --hover-bg-color: #434B5C;\n",
              "      --hover-fill-color: #FFFFFF;\n",
              "      --disabled-bg-color: #3B4455;\n",
              "      --disabled-fill-color: #666;\n",
              "  }\n",
              "\n",
              "  .colab-df-quickchart {\n",
              "    background-color: var(--bg-color);\n",
              "    border: none;\n",
              "    border-radius: 50%;\n",
              "    cursor: pointer;\n",
              "    display: none;\n",
              "    fill: var(--fill-color);\n",
              "    height: 32px;\n",
              "    padding: 0;\n",
              "    width: 32px;\n",
              "  }\n",
              "\n",
              "  .colab-df-quickchart:hover {\n",
              "    background-color: var(--hover-bg-color);\n",
              "    box-shadow: 0 1px 2px rgba(60, 64, 67, 0.3), 0 1px 3px 1px rgba(60, 64, 67, 0.15);\n",
              "    fill: var(--button-hover-fill-color);\n",
              "  }\n",
              "\n",
              "  .colab-df-quickchart-complete:disabled,\n",
              "  .colab-df-quickchart-complete:disabled:hover {\n",
              "    background-color: var(--disabled-bg-color);\n",
              "    fill: var(--disabled-fill-color);\n",
              "    box-shadow: none;\n",
              "  }\n",
              "\n",
              "  .colab-df-spinner {\n",
              "    border: 2px solid var(--fill-color);\n",
              "    border-color: transparent;\n",
              "    border-bottom-color: var(--fill-color);\n",
              "    animation:\n",
              "      spin 1s steps(1) infinite;\n",
              "  }\n",
              "\n",
              "  @keyframes spin {\n",
              "    0% {\n",
              "      border-color: transparent;\n",
              "      border-bottom-color: var(--fill-color);\n",
              "      border-left-color: var(--fill-color);\n",
              "    }\n",
              "    20% {\n",
              "      border-color: transparent;\n",
              "      border-left-color: var(--fill-color);\n",
              "      border-top-color: var(--fill-color);\n",
              "    }\n",
              "    30% {\n",
              "      border-color: transparent;\n",
              "      border-left-color: var(--fill-color);\n",
              "      border-top-color: var(--fill-color);\n",
              "      border-right-color: var(--fill-color);\n",
              "    }\n",
              "    40% {\n",
              "      border-color: transparent;\n",
              "      border-right-color: var(--fill-color);\n",
              "      border-top-color: var(--fill-color);\n",
              "    }\n",
              "    60% {\n",
              "      border-color: transparent;\n",
              "      border-right-color: var(--fill-color);\n",
              "    }\n",
              "    80% {\n",
              "      border-color: transparent;\n",
              "      border-right-color: var(--fill-color);\n",
              "      border-bottom-color: var(--fill-color);\n",
              "    }\n",
              "    90% {\n",
              "      border-color: transparent;\n",
              "      border-bottom-color: var(--fill-color);\n",
              "    }\n",
              "  }\n",
              "</style>\n",
              "\n",
              "  <script>\n",
              "    async function quickchart(key) {\n",
              "      const quickchartButtonEl =\n",
              "        document.querySelector('#' + key + ' button');\n",
              "      quickchartButtonEl.disabled = true;  // To prevent multiple clicks.\n",
              "      quickchartButtonEl.classList.add('colab-df-spinner');\n",
              "      try {\n",
              "        const charts = await google.colab.kernel.invokeFunction(\n",
              "            'suggestCharts', [key], {});\n",
              "      } catch (error) {\n",
              "        console.error('Error during call to suggestCharts:', error);\n",
              "      }\n",
              "      quickchartButtonEl.classList.remove('colab-df-spinner');\n",
              "      quickchartButtonEl.classList.add('colab-df-quickchart-complete');\n",
              "    }\n",
              "    (() => {\n",
              "      let quickchartButtonEl =\n",
              "        document.querySelector('#df-0fee3e01-6c8a-4b93-833b-87c4d30af1be button');\n",
              "      quickchartButtonEl.style.display =\n",
              "        google.colab.kernel.accessAllowed ? 'block' : 'none';\n",
              "    })();\n",
              "  </script>\n",
              "</div>\n",
              "    </div>\n",
              "  </div>\n"
            ],
            "application/vnd.google.colaboratory.intrinsic+json": {
              "type": "dataframe",
              "variable_name": "df_train"
            }
          },
          "metadata": {},
          "execution_count": 4
        }
      ]
    },
    {
      "cell_type": "code",
      "source": [
        "x = df_train.drop(columns=['critical_temp', 'material'])\n",
        "y = df_train['critical_temp']"
      ],
      "metadata": {
        "id": "d_a1m_-YrBnh"
      },
      "execution_count": null,
      "outputs": []
    },
    {
      "cell_type": "code",
      "source": [
        "x_train, x_val, y_train, y_val = train_test_split(np.array(x), np.array(y).reshape(-1, 1), test_size=test_size)\n",
        "\n",
        "x_train = torch.FloatTensor(x_train)\n",
        "x_val = torch.FloatTensor(x_val)\n",
        "y_train = torch.FloatTensor(y_train)\n",
        "y_val = torch.FloatTensor(y_val)"
      ],
      "metadata": {
        "id": "JbesWjc_rmzw"
      },
      "execution_count": null,
      "outputs": []
    },
    {
      "cell_type": "code",
      "source": [
        "y_train.shape"
      ],
      "metadata": {
        "colab": {
          "base_uri": "https://localhost:8080/"
        },
        "id": "9epZlFooLa9C",
        "outputId": "04c04546-4ca1-4c68-ca1b-4a17ff8546d9"
      },
      "execution_count": null,
      "outputs": [
        {
          "output_type": "execute_result",
          "data": {
            "text/plain": [
              "torch.Size([13608, 1])"
            ]
          },
          "metadata": {},
          "execution_count": 66
        }
      ]
    },
    {
      "cell_type": "code",
      "source": [
        "loss = torch.nn.MSELoss()"
      ],
      "metadata": {
        "id": "a8sYJeWrKJ45"
      },
      "execution_count": null,
      "outputs": []
    },
    {
      "cell_type": "code",
      "source": [
        "class MyNet(torch.nn.Module):\n",
        "    def __init__(self, n_hidden_neurons):\n",
        "        super(MyNet, self).__init__()\n",
        "        self.fc1 = torch.nn.Linear(x_train.shape[-1], n_hidden_neurons)\n",
        "        self.act1 = torch.nn.Sigmoid()\n",
        "\n",
        "        # self.fc2 = torch.nn.Linear(n_hidden_neurons, n_hidden_neurons)\n",
        "        # self.act2 = torch.nn.Sigmoid()\n",
        "\n",
        "        # self.fc3 = torch.nn.Linear(n_hidden_neurons, n_hidden_neurons)\n",
        "        # self.act3 = torch.nn.Sigmoid()\n",
        "\n",
        "        self.fc4 = torch.nn.Linear(n_hidden_neurons, n_hidden_neurons)\n",
        "        self.act4 = torch.nn.Sigmoid()\n",
        "\n",
        "        self.fc5 = torch.nn.Linear(n_hidden_neurons, 1)\n",
        "\n",
        "\n",
        "\n",
        "    def forward(self, x):\n",
        "        x = self.fc1(x)\n",
        "        x = self.act1(x)\n",
        "\n",
        "        # x = self.fc2(x)\n",
        "        # x = self.act2(x)\n",
        "\n",
        "        # x = self.fc3(x)\n",
        "        # x = self.act3(x)\n",
        "\n",
        "        x = self.fc4(x)\n",
        "        x = self.act4(x)\n",
        "\n",
        "        x = self.fc5(x)\n",
        "\n",
        "        return x\n",
        "\n",
        "my_net = MyNet(200)"
      ],
      "metadata": {
        "id": "4ZNV_rHStixk"
      },
      "execution_count": null,
      "outputs": []
    },
    {
      "cell_type": "code",
      "source": [
        "device = torch.device('cuda:0' if torch.cuda.is_available() else 'cpu')\n",
        "mnist_net = my_net.to(device)\n",
        "#list(mnist_net.parameters())"
      ],
      "metadata": {
        "id": "Dp61Ga_Ge9Tq"
      },
      "execution_count": null,
      "outputs": []
    },
    {
      "cell_type": "code",
      "source": [
        "optimizer = torch.optim.Adam(my_net.parameters(), lr=0.001)\n",
        "x_train = x_train.to(device)\n",
        "x_val = x_val.to(device)\n",
        "y_train = y_train.to(device)\n",
        "y_val = y_val.to(device)\n",
        "for epoch_index in range(2000):\n",
        "    optimizer.zero_grad()\n",
        "\n",
        "    y_pred = my_net.forward(x_train)\n",
        "    loss_val = loss(y_pred, y_train)\n",
        "\n",
        "    loss_val.backward()\n",
        "\n",
        "    optimizer.step()\n",
        "\n",
        "    test_preds = my_net.forward(x_val)\n",
        "    accuracy = (test_preds.argmax(dim=1) == y_val).float().mean()\n",
        "    # print(accuracy)\n",
        "    # print(my_net.forward(x_val).argmax(dim=1))\n",
        "\n",
        "y_pred = my_net.forward(x_val)"
      ],
      "metadata": {
        "id": "gCPnija-uNXQ"
      },
      "execution_count": null,
      "outputs": []
    },
    {
      "cell_type": "code",
      "source": [
        "y_pred = my_net.forward(x_val)"
      ],
      "metadata": {
        "id": "eh0My0bULM0H"
      },
      "execution_count": null,
      "outputs": []
    },
    {
      "cell_type": "code",
      "source": [
        "y_pred"
      ],
      "metadata": {
        "colab": {
          "base_uri": "https://localhost:8080/"
        },
        "id": "YyAwFvTYdlg-",
        "outputId": "f2bc7e09-f256-497f-a714-0d099df6ab1a"
      },
      "execution_count": null,
      "outputs": [
        {
          "output_type": "execute_result",
          "data": {
            "text/plain": [
              "tensor([[73.8663],\n",
              "        [66.1037],\n",
              "        [20.1812],\n",
              "        ...,\n",
              "        [ 4.3436],\n",
              "        [81.6607],\n",
              "        [13.2249]], grad_fn=<AddmmBackward0>)"
            ]
          },
          "metadata": {},
          "execution_count": 164
        }
      ]
    },
    {
      "cell_type": "code",
      "source": [
        "print(f'r2 = {r2_score(y_val.numpy(), y_pred.detach().numpy())}')\n",
        "print(f'MSE = {(t := mean_squared_error(y_val.numpy(), y_pred.detach()))}')\n",
        "print(f'RRMSE = {np.sqrt(t / np.sum(pow(y_pred.detach().numpy(), 2))) * 100}%')\n",
        "\n",
        "pd.DataFrame(zip(y_pred.detach().numpy(), y_val.numpy()));"
      ],
      "metadata": {
        "colab": {
          "base_uri": "https://localhost:8080/"
        },
        "id": "m91-UmRBPavz",
        "outputId": "cfd7f0a0-2675-4b3b-b1d4-5735eec37e40"
      },
      "execution_count": null,
      "outputs": [
        {
          "output_type": "stream",
          "name": "stdout",
          "text": [
            "r2 = 0.7501462206416778\n",
            "MSE = 292.3267822265625\n",
            "RRMSE = 0.6626556627452374%\n"
          ]
        }
      ]
    },
    {
      "cell_type": "code",
      "source": [
        "x_test = torch.FloatTensor(np.array(df_test.drop(columns=['material'])))\n",
        "\n",
        "temperature = my_net.forward(x_test)"
      ],
      "metadata": {
        "id": "P8tuB2QfVIol"
      },
      "execution_count": null,
      "outputs": []
    },
    {
      "cell_type": "code",
      "source": [
        "df_test['critical_temp'] = temperature.detach().numpy()"
      ],
      "metadata": {
        "id": "qLx-DC8VV77j"
      },
      "execution_count": null,
      "outputs": []
    },
    {
      "cell_type": "code",
      "source": [
        "df_test"
      ],
      "metadata": {
        "id": "_mz0BckGWEUc"
      },
      "execution_count": null,
      "outputs": []
    },
    {
      "cell_type": "code",
      "source": [
        "df_test['critical_temp'].to_csv('predict.csv', sep=';', index=False)"
      ],
      "metadata": {
        "id": "zfuuSQKZVG1k"
      },
      "execution_count": null,
      "outputs": []
    }
  ]
}