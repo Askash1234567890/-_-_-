{
  "metadata": {
    "kernelspec": {
      "language": "python",
      "display_name": "Python 3",
      "name": "python3"
    },
    "language_info": {
      "name": "python",
      "version": "3.7.12",
      "mimetype": "text/x-python",
      "codemirror_mode": {
        "name": "ipython",
        "version": 3
      },
      "pygments_lexer": "ipython3",
      "nbconvert_exporter": "python",
      "file_extension": ".py"
    },
    "colab": {
      "provenance": []
    }
  },
  "nbformat_minor": 0,
  "nbformat": 4,
  "cells": [
    {
      "cell_type": "code",
      "source": [
        "import numpy as np\n",
        "import pandas as pd\n",
        "import matplotlib.pyplot as plt\n",
        "import seaborn as sns\n",
        "from collections import Counter as count\n",
        "\n",
        "from sklearn.preprocessing import LabelEncoder, OneHotEncoder\n",
        "from sklearn.linear_model import LinearRegression\n",
        "from sklearn.metrics import mean_squared_error, r2_score\n",
        "from sklearn.model_selection import train_test_split\n",
        "\n",
        "from imblearn.over_sampling import RandomOverSampler"
      ],
      "metadata": {
        "id": "LHJooCwIHUOT"
      },
      "execution_count": null,
      "outputs": []
    },
    {
      "cell_type": "code",
      "source": [
        "from google.colab import drive\n",
        "import os\n",
        "\n",
        "drive.mount('/content/gdrive')\n",
        "os.chdir(r'/content/gdrive/MyDrive/Нефть')"
      ],
      "metadata": {
        "colab": {
          "base_uri": "https://localhost:8080/"
        },
        "id": "YlxS4PzZH9XV",
        "outputId": "dbc4cea2-d20e-4f3e-b2f1-8456d32aa8db"
      },
      "execution_count": null,
      "outputs": [
        {
          "output_type": "stream",
          "name": "stdout",
          "text": [
            "Drive already mounted at /content/gdrive; to attempt to forcibly remount, call drive.mount(\"/content/gdrive\", force_remount=True).\n"
          ]
        }
      ]
    },
    {
      "cell_type": "code",
      "source": [
        "test = pd.read_csv('oil_test.csv')\n",
        "train = pd.read_csv('train_oil.csv')"
      ],
      "metadata": {
        "id": "7QUG_iwCIRlm"
      },
      "execution_count": null,
      "outputs": []
    },
    {
      "cell_type": "code",
      "source": [
        "test.isna().sum()"
      ],
      "metadata": {
        "colab": {
          "base_uri": "https://localhost:8080/"
        },
        "id": "lZshxbOtlDPK",
        "outputId": "43d24903-405b-44dd-e296-b273d50e4ee2"
      },
      "execution_count": null,
      "outputs": [
        {
          "output_type": "execute_result",
          "data": {
            "text/plain": [
              "Field name                         0\n",
              "Reservoir unit                     0\n",
              "Country                           13\n",
              "Region                            16\n",
              "Basin name                         8\n",
              "Tectonic regime                    0\n",
              "Latitude                          13\n",
              "Longitude                         16\n",
              "Operator company                   0\n",
              "Hydrocarbon type                   0\n",
              "Reservoir status                   0\n",
              "Structural setting                 0\n",
              "Depth                              0\n",
              "Reservoir period                   0\n",
              "Lithology                          0\n",
              "Thickness (gross average ft)       0\n",
              "Thickness (net pay average ft)     0\n",
              "Porosity                           0\n",
              "Permeability                       0\n",
              "dtype: int64"
            ]
          },
          "metadata": {},
          "execution_count": 666
        }
      ]
    },
    {
      "cell_type": "code",
      "source": [
        "train.isna().sum()"
      ],
      "metadata": {
        "colab": {
          "base_uri": "https://localhost:8080/"
        },
        "id": "17AmQRw1lFaC",
        "outputId": "20db4586-919a-460a-accb-9591ddc00593"
      },
      "execution_count": null,
      "outputs": [
        {
          "output_type": "execute_result",
          "data": {
            "text/plain": [
              "Field name                         0\n",
              "Reservoir unit                     0\n",
              "Country                           27\n",
              "Region                            38\n",
              "Basin name                        38\n",
              "Tectonic regime                    0\n",
              "Latitude                          27\n",
              "Longitude                         30\n",
              "Operator company                   0\n",
              "Onshore/Offshore                   0\n",
              "Hydrocarbon type                   0\n",
              "Reservoir status                   0\n",
              "Structural setting                 0\n",
              "Depth                              0\n",
              "Reservoir period                   0\n",
              "Lithology                          0\n",
              "Thickness (gross average ft)       0\n",
              "Thickness (net pay average ft)     0\n",
              "Porosity                           0\n",
              "Permeability                       0\n",
              "dtype: int64"
            ]
          },
          "metadata": {},
          "execution_count": 667
        }
      ]
    },
    {
      "cell_type": "code",
      "source": [
        "plt.figure(figsize=(15,7))\n",
        "\n",
        "cmap = sns.cubehelix_palette(as_cmap=True, light=.9)\n",
        "\n",
        "sns.heatmap(test.isna().transpose(), cmap=cmap,\n",
        "            cbar_kws={'label': 'Missing Data'}, linewidths=0.05)\n",
        "\n",
        "plt.savefig(\"visualizing_missing_data_with_heatmap_Seaborn_Python.png\", dpi=100)"
      ],
      "metadata": {
        "colab": {
          "base_uri": "https://localhost:8080/",
          "height": 624
        },
        "id": "f2pmvBEdIhoo",
        "outputId": "1ba1697a-ffd3-40b7-d474-8d8fe54ad3d8"
      },
      "execution_count": null,
      "outputs": [
        {
          "output_type": "display_data",
          "data": {
            "text/plain": [
              "<Figure size 1500x700 with 2 Axes>"
            ],
            "image/png": "[encoded data removed]"
          },
          "metadata": {}
        }
      ]
    },
    {
      "cell_type": "code",
      "source": [
        "train.isnull().sum()"
      ],
      "metadata": {
        "colab": {
          "base_uri": "https://localhost:8080/"
        },
        "id": "P9hSPd2xJmAG",
        "outputId": "3b8b4c4e-32f9-4860-bb46-f80269f6b1c6"
      },
      "execution_count": null,
      "outputs": [
        {
          "output_type": "execute_result",
          "data": {
            "text/plain": [
              "Field name                         0\n",
              "Reservoir unit                     0\n",
              "Country                           27\n",
              "Region                            38\n",
              "Basin name                        38\n",
              "Tectonic regime                    0\n",
              "Latitude                          27\n",
              "Longitude                         30\n",
              "Operator company                   0\n",
              "Onshore/Offshore                   0\n",
              "Hydrocarbon type                   0\n",
              "Reservoir status                   0\n",
              "Structural setting                 0\n",
              "Depth                              0\n",
              "Reservoir period                   0\n",
              "Lithology                          0\n",
              "Thickness (gross average ft)       0\n",
              "Thickness (net pay average ft)     0\n",
              "Porosity                           0\n",
              "Permeability                       0\n",
              "dtype: int64"
            ]
          },
          "metadata": {},
          "execution_count": 669
        }
      ]
    },
    {
      "cell_type": "markdown",
      "source": [
        "# Обработка данных"
      ],
      "metadata": {
        "id": "7EowZo8XKyJ8"
      }
    },
    {
      "cell_type": "code",
      "source": [
        "fi = 10"
      ],
      "metadata": {
        "id": "oXIYFYjLNEFF"
      },
      "execution_count": null,
      "outputs": []
    },
    {
      "cell_type": "code",
      "source": [
        "sns.set(rc = {'figure.figsize':(5,5)})\n",
        "y_data = pd.DataFrame(train['Onshore/Offshore'])\n",
        "sns.countplot(x='Onshore/Offshore', data=y_data, palette='hls')\n",
        "plt.show()"
      ],
      "metadata": {
        "colab": {
          "base_uri": "https://localhost:8080/"
        },
        "id": "yl9gOJxOK0z0",
        "outputId": "6036bf11-bcff-4607-be7f-f0a6f36a340e"
      },
      "execution_count": null,
      "outputs": [
        {
          "output_type": "display_data",
          "data": {
            "text/plain": [
              "<Figure size 500x500 with 1 Axes>"
            ],
            "image/png": "[encoded data removed]"
          },
          "metadata": {}
        }
      ]
    },
    {
      "cell_type": "code",
      "source": [
        "train.head()"
      ],
      "metadata": {
        "colab": {
          "base_uri": "https://localhost:8080/"
        },
        "id": "YVcpI3KaMfWA",
        "outputId": "d14f9e93-4e62-45e8-91ed-45178376e07e"
      },
      "execution_count": null,
      "outputs": [
        {
          "output_type": "execute_result",
          "data": {
            "text/plain": [
              "     Field name           Reservoir unit       Country               Region  \\\n",
              "0       ZHIRNOV              MELEKESKIAN        RUSSIA  FORMER SOVIET UNION   \n",
              "1   LAGOA PARDA  LAGOA PARDA (URUCUTUCA)        BRAZIL        LATIN AMERICA   \n",
              "2        ABQAIQ                   ARAB D  SAUDI ARABIA          MIDDLE EAST   \n",
              "3     MURCHISON                    BRENT    UK /NORWAY               EUROPE   \n",
              "4  WEST PEMBINA   NISKU (PEMBINA L POOL)        CANADA        NORTH AMERICA   \n",
              "\n",
              "           Basin name        Tectonic regime  Latitude  Longitude  \\\n",
              "0          VOLGA-URAL  COMPRESSION/EVAPORITE   51.0000    44.8042   \n",
              "1      ESPIRITO SANTO              EXTENSION  -19.6017   -39.8332   \n",
              "2            THE GULF  COMPRESSION/EVAPORITE   26.0800    49.8100   \n",
              "3  NORTH SEA NORTHERN              EXTENSION   61.3833     1.7500   \n",
              "4      WESTERN CANADA            COMPRESSION   53.2287  -115.8008   \n",
              "\n",
              "   Operator company Onshore/Offshore Hydrocarbon type      Reservoir status  \\\n",
              "0  NIZHNEVOLZHSKNET          ONSHORE              OIL  DECLINING PRODUCTION   \n",
              "1         PETROBRAS          ONSHORE              OIL       NEARLY DEPLETED   \n",
              "2      SAUDI ARAMCO          ONSHORE              OIL          REJUVENATING   \n",
              "3               CNR         OFFSHORE              OIL       NEARLY DEPLETED   \n",
              "4          NUMEROUS          ONSHORE              OIL               UNKNOWN   \n",
              "\n",
              "  Structural setting  Depth Reservoir period  Lithology  \\\n",
              "0           FORELAND   1870    CARBONIFEROUS  SANDSTONE   \n",
              "1     PASSIVE MARGIN   4843        PALEOGENE  SANDSTONE   \n",
              "2           FORELAND   6050         JURASSIC  LIMESTONE   \n",
              "3               RIFT   8988         JURASSIC  SANDSTONE   \n",
              "4           FORELAND   9306         DEVONIAN   DOLOMITE   \n",
              "\n",
              "   Thickness (gross average ft)  Thickness (net pay average ft)  Porosity  \\\n",
              "0                         262.0                            33.0      24.0   \n",
              "1                        2133.0                            72.0      23.0   \n",
              "2                         250.0                           184.0      21.0   \n",
              "3                         425.0                           300.0      22.0   \n",
              "4                         233.0                           167.0      11.8   \n",
              "\n",
              "   Permeability  \n",
              "0          30.0  \n",
              "1         350.0  \n",
              "2         410.0  \n",
              "3         750.0  \n",
              "4        1407.0  "
            ],
            "text/html": [
              "\n",
              "  <div id=\"df-ab2ba30f-fc9c-45db-b6f6-07407799c02b\" class=\"colab-df-container\">\n",
              "    <div>\n",
              "<style scoped>\n",
              "    .dataframe tbody tr th:only-of-type {\n",
              "        vertical-align: middle;\n",
              "    }\n",
              "\n",
              "    .dataframe tbody tr th {\n",
              "        vertical-align: top;\n",
              "    }\n",
              "\n",
              "    .dataframe thead th {\n",
              "        text-align: right;\n",
              "    }\n",
              "</style>\n",
              "<table border=\"1\" class=\"dataframe\">\n",
              "  <thead>\n",
              "    <tr style=\"text-align: right;\">\n",
              "      <th></th>\n",
              "      <th>Field name</th>\n",
              "      <th>Reservoir unit</th>\n",
              "      <th>Country</th>\n",
              "      <th>Region</th>\n",
              "      <th>Basin name</th>\n",
              "      <th>Tectonic regime</th>\n",
              "      <th>Latitude</th>\n",
              "      <th>Longitude</th>\n",
              "      <th>Operator company</th>\n",
              "      <th>Onshore/Offshore</th>\n",
              "      <th>Hydrocarbon type</th>\n",
              "      <th>Reservoir status</th>\n",
              "      <th>Structural setting</th>\n",
              "      <th>Depth</th>\n",
              "      <th>Reservoir period</th>\n",
              "      <th>Lithology</th>\n",
              "      <th>Thickness (gross average ft)</th>\n",
              "      <th>Thickness (net pay average ft)</th>\n",
              "      <th>Porosity</th>\n",
              "      <th>Permeability</th>\n",
              "    </tr>\n",
              "  </thead>\n",
              "  <tbody>\n",
              "    <tr>\n",
              "      <th>0</th>\n",
              "      <td>ZHIRNOV</td>\n",
              "      <td>MELEKESKIAN</td>\n",
              "      <td>RUSSIA</td>\n",
              "      <td>FORMER SOVIET UNION</td>\n",
              "      <td>VOLGA-URAL</td>\n",
              "      <td>COMPRESSION/EVAPORITE</td>\n",
              "      <td>51.0000</td>\n",
              "      <td>44.8042</td>\n",
              "      <td>NIZHNEVOLZHSKNET</td>\n",
              "      <td>ONSHORE</td>\n",
              "      <td>OIL</td>\n",
              "      <td>DECLINING PRODUCTION</td>\n",
              "      <td>FORELAND</td>\n",
              "      <td>1870</td>\n",
              "      <td>CARBONIFEROUS</td>\n",
              "      <td>SANDSTONE</td>\n",
              "      <td>262.0</td>\n",
              "      <td>33.0</td>\n",
              "      <td>24.0</td>\n",
              "      <td>30.0</td>\n",
              "    </tr>\n",
              "    <tr>\n",
              "      <th>1</th>\n",
              "      <td>LAGOA PARDA</td>\n",
              "      <td>LAGOA PARDA (URUCUTUCA)</td>\n",
              "      <td>BRAZIL</td>\n",
              "      <td>LATIN AMERICA</td>\n",
              "      <td>ESPIRITO SANTO</td>\n",
              "      <td>EXTENSION</td>\n",
              "      <td>-19.6017</td>\n",
              "      <td>-39.8332</td>\n",
              "      <td>PETROBRAS</td>\n",
              "      <td>ONSHORE</td>\n",
              "      <td>OIL</td>\n",
              "      <td>NEARLY DEPLETED</td>\n",
              "      <td>PASSIVE MARGIN</td>\n",
              "      <td>4843</td>\n",
              "      <td>PALEOGENE</td>\n",
              "      <td>SANDSTONE</td>\n",
              "      <td>2133.0</td>\n",
              "      <td>72.0</td>\n",
              "      <td>23.0</td>\n",
              "      <td>350.0</td>\n",
              "    </tr>\n",
              "    <tr>\n",
              "      <th>2</th>\n",
              "      <td>ABQAIQ</td>\n",
              "      <td>ARAB D</td>\n",
              "      <td>SAUDI ARABIA</td>\n",
              "      <td>MIDDLE EAST</td>\n",
              "      <td>THE GULF</td>\n",
              "      <td>COMPRESSION/EVAPORITE</td>\n",
              "      <td>26.0800</td>\n",
              "      <td>49.8100</td>\n",
              "      <td>SAUDI ARAMCO</td>\n",
              "      <td>ONSHORE</td>\n",
              "      <td>OIL</td>\n",
              "      <td>REJUVENATING</td>\n",
              "      <td>FORELAND</td>\n",
              "      <td>6050</td>\n",
              "      <td>JURASSIC</td>\n",
              "      <td>LIMESTONE</td>\n",
              "      <td>250.0</td>\n",
              "      <td>184.0</td>\n",
              "      <td>21.0</td>\n",
              "      <td>410.0</td>\n",
              "    </tr>\n",
              "    <tr>\n",
              "      <th>3</th>\n",
              "      <td>MURCHISON</td>\n",
              "      <td>BRENT</td>\n",
              "      <td>UK /NORWAY</td>\n",
              "      <td>EUROPE</td>\n",
              "      <td>NORTH SEA NORTHERN</td>\n",
              "      <td>EXTENSION</td>\n",
              "      <td>61.3833</td>\n",
              "      <td>1.7500</td>\n",
              "      <td>CNR</td>\n",
              "      <td>OFFSHORE</td>\n",
              "      <td>OIL</td>\n",
              "      <td>NEARLY DEPLETED</td>\n",
              "      <td>RIFT</td>\n",
              "      <td>8988</td>\n",
              "      <td>JURASSIC</td>\n",
              "      <td>SANDSTONE</td>\n",
              "      <td>425.0</td>\n",
              "      <td>300.0</td>\n",
              "      <td>22.0</td>\n",
              "      <td>750.0</td>\n",
              "    </tr>\n",
              "    <tr>\n",
              "      <th>4</th>\n",
              "      <td>WEST PEMBINA</td>\n",
              "      <td>NISKU (PEMBINA L POOL)</td>\n",
              "      <td>CANADA</td>\n",
              "      <td>NORTH AMERICA</td>\n",
              "      <td>WESTERN CANADA</td>\n",
              "      <td>COMPRESSION</td>\n",
              "      <td>53.2287</td>\n",
              "      <td>-115.8008</td>\n",
              "      <td>NUMEROUS</td>\n",
              "      <td>ONSHORE</td>\n",
              "      <td>OIL</td>\n",
              "      <td>UNKNOWN</td>\n",
              "      <td>FORELAND</td>\n",
              "      <td>9306</td>\n",
              "      <td>DEVONIAN</td>\n",
              "      <td>DOLOMITE</td>\n",
              "      <td>233.0</td>\n",
              "      <td>167.0</td>\n",
              "      <td>11.8</td>\n",
              "      <td>1407.0</td>\n",
              "    </tr>\n",
              "  </tbody>\n",
              "</table>\n",
              "</div>\n",
              "    <div class=\"colab-df-buttons\">\n",
              "\n",
              "  <div class=\"colab-df-container\">\n",
              "    <button class=\"colab-df-convert\" onclick=\"convertToInteractive('df-ab2ba30f-fc9c-45db-b6f6-07407799c02b')\"\n",
              "            title=\"Convert this dataframe to an interactive table.\"\n",
              "            style=\"display:none;\">\n",
              "\n",
              "  <svg xmlns=\"http://www.w3.org/2000/svg\" height=\"24px\" viewBox=\"0 -960 960 960\">\n",
              "    <path d=\"M120-120v-720h720v720H120Zm60-500h600v-160H180v160Zm220 220h160v-160H400v160Zm0 220h160v-160H400v160ZM180-400h160v-160H180v160Zm440 0h160v-160H620v160ZM180-180h160v-160H180v160Zm440 0h160v-160H620v160Z\"/>\n",
              "  </svg>\n",
              "    </button>\n",
              "\n",
              "  <style>\n",
              "    .colab-df-container {\n",
              "      display:flex;\n",
              "      gap: 12px;\n",
              "    }\n",
              "\n",
              "    .colab-df-convert {\n",
              "      background-color: #E8F0FE;\n",
              "      border: none;\n",
              "      border-radius: 50%;\n",
              "      cursor: pointer;\n",
              "      display: none;\n",
              "      fill: #1967D2;\n",
              "      height: 32px;\n",
              "      padding: 0 0 0 0;\n",
              "      width: 32px;\n",
              "    }\n",
              "\n",
              "    .colab-df-convert:hover {\n",
              "      background-color: #E2EBFA;\n",
              "      box-shadow: 0px 1px 2px rgba(60, 64, 67, 0.3), 0px 1px 3px 1px rgba(60, 64, 67, 0.15);\n",
              "      fill: #174EA6;\n",
              "    }\n",
              "\n",
              "    .colab-df-buttons div {\n",
              "      margin-bottom: 4px;\n",
              "    }\n",
              "\n",
              "    [theme=dark] .colab-df-convert {\n",
              "      background-color: #3B4455;\n",
              "      fill: #D2E3FC;\n",
              "    }\n",
              "\n",
              "    [theme=dark] .colab-df-convert:hover {\n",
              "      background-color: #434B5C;\n",
              "      box-shadow: 0px 1px 3px 1px rgba(0, 0, 0, 0.15);\n",
              "      filter: drop-shadow(0px 1px 2px rgba(0, 0, 0, 0.3));\n",
              "      fill: #FFFFFF;\n",
              "    }\n",
              "  </style>\n",
              "\n",
              "    <script>\n",
              "      const buttonEl =\n",
              "        document.querySelector('#df-ab2ba30f-fc9c-45db-b6f6-07407799c02b button.colab-df-convert');\n",
              "      buttonEl.style.display =\n",
              "        google.colab.kernel.accessAllowed ? 'block' : 'none';\n",
              "\n",
              "      async function convertToInteractive(key) {\n",
              "        const element = document.querySelector('#df-ab2ba30f-fc9c-45db-b6f6-07407799c02b');\n",
              "        const dataTable =\n",
              "          await google.colab.kernel.invokeFunction('convertToInteractive',\n",
              "                                                    [key], {});\n",
              "        if (!dataTable) return;\n",
              "\n",
              "        const docLinkHtml = 'Like what you see? Visit the ' +\n",
              "          '<a target=\"_blank\" href=https://colab.research.google.com/notebooks/data_table.ipynb>data table notebook</a>'\n",
              "          + ' to learn more about interactive tables.';\n",
              "        element.innerHTML = '';\n",
              "        dataTable['output_type'] = 'display_data';\n",
              "        await google.colab.output.renderOutput(dataTable, element);\n",
              "        const docLink = document.createElement('div');\n",
              "        docLink.innerHTML = docLinkHtml;\n",
              "        element.appendChild(docLink);\n",
              "      }\n",
              "    </script>\n",
              "  </div>\n",
              "\n",
              "\n",
              "<div id=\"df-2f6a94fd-cf37-4768-b363-e2d0ec447af3\">\n",
              "  <button class=\"colab-df-quickchart\" onclick=\"quickchart('df-2f6a94fd-cf37-4768-b363-e2d0ec447af3')\"\n",
              "            title=\"Suggest charts\"\n",
              "            style=\"display:none;\">\n",
              "\n",
              "<svg xmlns=\"http://www.w3.org/2000/svg\" height=\"24px\"viewBox=\"0 0 24 24\"\n",
              "     width=\"24px\">\n",
              "    <g>\n",
              "        <path d=\"M19 3H5c-1.1 0-2 .9-2 2v14c0 1.1.9 2 2 2h14c1.1 0 2-.9 2-2V5c0-1.1-.9-2-2-2zM9 17H7v-7h2v7zm4 0h-2V7h2v10zm4 0h-2v-4h2v4z\"/>\n",
              "    </g>\n",
              "</svg>\n",
              "  </button>\n",
              "\n",
              "<style>\n",
              "  .colab-df-quickchart {\n",
              "      --bg-color: #E8F0FE;\n",
              "      --fill-color: #1967D2;\n",
              "      --hover-bg-color: #E2EBFA;\n",
              "      --hover-fill-color: #174EA6;\n",
              "      --disabled-fill-color: #AAA;\n",
              "      --disabled-bg-color: #DDD;\n",
              "  }\n",
              "\n",
              "  [theme=dark] .colab-df-quickchart {\n",
              "      --bg-color: #3B4455;\n",
              "      --fill-color: #D2E3FC;\n",
              "      --hover-bg-color: #434B5C;\n",
              "      --hover-fill-color: #FFFFFF;\n",
              "      --disabled-bg-color: #3B4455;\n",
              "      --disabled-fill-color: #666;\n",
              "  }\n",
              "\n",
              "  .colab-df-quickchart {\n",
              "    background-color: var(--bg-color);\n",
              "    border: none;\n",
              "    border-radius: 50%;\n",
              "    cursor: pointer;\n",
              "    display: none;\n",
              "    fill: var(--fill-color);\n",
              "    height: 32px;\n",
              "    padding: 0;\n",
              "    width: 32px;\n",
              "  }\n",
              "\n",
              "  .colab-df-quickchart:hover {\n",
              "    background-color: var(--hover-bg-color);\n",
              "    box-shadow: 0 1px 2px rgba(60, 64, 67, 0.3), 0 1px 3px 1px rgba(60, 64, 67, 0.15);\n",
              "    fill: var(--button-hover-fill-color);\n",
              "  }\n",
              "\n",
              "  .colab-df-quickchart-complete:disabled,\n",
              "  .colab-df-quickchart-complete:disabled:hover {\n",
              "    background-color: var(--disabled-bg-color);\n",
              "    fill: var(--disabled-fill-color);\n",
              "    box-shadow: none;\n",
              "  }\n",
              "\n",
              "  .colab-df-spinner {\n",
              "    border: 2px solid var(--fill-color);\n",
              "    border-color: transparent;\n",
              "    border-bottom-color: var(--fill-color);\n",
              "    animation:\n",
              "      spin 1s steps(1) infinite;\n",
              "  }\n",
              "\n",
              "  @keyframes spin {\n",
              "    0% {\n",
              "      border-color: transparent;\n",
              "      border-bottom-color: var(--fill-color);\n",
              "      border-left-color: var(--fill-color);\n",
              "    }\n",
              "    20% {\n",
              "      border-color: transparent;\n",
              "      border-left-color: var(--fill-color);\n",
              "      border-top-color: var(--fill-color);\n",
              "    }\n",
              "    30% {\n",
              "      border-color: transparent;\n",
              "      border-left-color: var(--fill-color);\n",
              "      border-top-color: var(--fill-color);\n",
              "      border-right-color: var(--fill-color);\n",
              "    }\n",
              "    40% {\n",
              "      border-color: transparent;\n",
              "      border-right-color: var(--fill-color);\n",
              "      border-top-color: var(--fill-color);\n",
              "    }\n",
              "    60% {\n",
              "      border-color: transparent;\n",
              "      border-right-color: var(--fill-color);\n",
              "    }\n",
              "    80% {\n",
              "      border-color: transparent;\n",
              "      border-right-color: var(--fill-color);\n",
              "      border-bottom-color: var(--fill-color);\n",
              "    }\n",
              "    90% {\n",
              "      border-color: transparent;\n",
              "      border-bottom-color: var(--fill-color);\n",
              "    }\n",
              "  }\n",
              "</style>\n",
              "\n",
              "  <script>\n",
              "    async function quickchart(key) {\n",
              "      const quickchartButtonEl =\n",
              "        document.querySelector('#' + key + ' button');\n",
              "      quickchartButtonEl.disabled = true;  // To prevent multiple clicks.\n",
              "      quickchartButtonEl.classList.add('colab-df-spinner');\n",
              "      try {\n",
              "        const charts = await google.colab.kernel.invokeFunction(\n",
              "            'suggestCharts', [key], {});\n",
              "      } catch (error) {\n",
              "        console.error('Error during call to suggestCharts:', error);\n",
              "      }\n",
              "      quickchartButtonEl.classList.remove('colab-df-spinner');\n",
              "      quickchartButtonEl.classList.add('colab-df-quickchart-complete');\n",
              "    }\n",
              "    (() => {\n",
              "      let quickchartButtonEl =\n",
              "        document.querySelector('#df-2f6a94fd-cf37-4768-b363-e2d0ec447af3 button');\n",
              "      quickchartButtonEl.style.display =\n",
              "        google.colab.kernel.accessAllowed ? 'block' : 'none';\n",
              "    })();\n",
              "  </script>\n",
              "</div>\n",
              "    </div>\n",
              "  </div>\n"
            ]
          },
          "metadata": {},
          "execution_count": 672
        }
      ]
    },
    {
      "cell_type": "code",
      "source": [
        "cols_with_slash = []\n",
        "for i in range(train.shape[1]):\n",
        "    for j in np.array(train.iloc[:, i]):\n",
        "        if '/' in str(j):\n",
        "            cols_with_slash.append(train.iloc[:, i].name)\n",
        "            break\n",
        "print(cols_with_slash)"
      ],
      "metadata": {
        "colab": {
          "base_uri": "https://localhost:8080/"
        },
        "id": "MtQkF6_pK_tc",
        "outputId": "0af8d02c-fc78-4e46-9c4d-657325476b00"
      },
      "execution_count": null,
      "outputs": [
        {
          "output_type": "stream",
          "name": "stdout",
          "text": [
            "['Reservoir unit', 'Country', 'Basin name', 'Tectonic regime', 'Operator company', 'Structural setting']\n"
          ]
        }
      ]
    },
    {
      "cell_type": "code",
      "source": [
        "obj_cols = []\n",
        "for i in range(train.shape[1]):\n",
        "    if train.iloc[:, i].dtype == 'object':\n",
        "        obj_cols.append(train.iloc[:, i].name)\n",
        "obj_cols"
      ],
      "metadata": {
        "colab": {
          "base_uri": "https://localhost:8080/"
        },
        "id": "5y9a6qY-NgT-",
        "outputId": "a9ee30a2-cf45-46e5-8ccb-ed178a3505dc"
      },
      "execution_count": null,
      "outputs": [
        {
          "output_type": "execute_result",
          "data": {
            "text/plain": [
              "['Field name',\n",
              " 'Reservoir unit',\n",
              " 'Country',\n",
              " 'Region',\n",
              " 'Basin name',\n",
              " 'Tectonic regime',\n",
              " 'Operator company',\n",
              " 'Onshore/Offshore',\n",
              " 'Hydrocarbon type',\n",
              " 'Reservoir status',\n",
              " 'Structural setting',\n",
              " 'Reservoir period',\n",
              " 'Lithology']"
            ]
          },
          "metadata": {},
          "execution_count": 674
        }
      ]
    },
    {
      "cell_type": "code",
      "source": [
        "num_cols = []\n",
        "for i in range(train.shape[1]):\n",
        "    if train.iloc[:, i].dtype != 'object':\n",
        "        num_cols.append(train.iloc[:, i].name)\n",
        "num_cols"
      ],
      "metadata": {
        "colab": {
          "base_uri": "https://localhost:8080/"
        },
        "id": "Miqw4WxmVKbz",
        "outputId": "524302fd-252e-48ec-f6aa-cf5d0c1cad09"
      },
      "execution_count": null,
      "outputs": [
        {
          "output_type": "execute_result",
          "data": {
            "text/plain": [
              "['Latitude',\n",
              " 'Longitude',\n",
              " 'Depth',\n",
              " 'Thickness (gross average ft)',\n",
              " 'Thickness (net pay average ft)',\n",
              " 'Porosity',\n",
              " 'Permeability']"
            ]
          },
          "metadata": {},
          "execution_count": 675
        }
      ]
    },
    {
      "cell_type": "code",
      "source": [
        "obj_cols_without_slash = pd.Index(set(obj_cols) - set(cols_with_slash))\n",
        "train[obj_cols_without_slash]"
      ],
      "metadata": {
        "colab": {
          "base_uri": "https://localhost:8080/"
        },
        "id": "j5ZxlTzyORdq",
        "outputId": "e89936a2-6cc1-42b0-9b51-009af38e559e"
      },
      "execution_count": null,
      "outputs": [
        {
          "output_type": "execute_result",
          "data": {
            "text/plain": [
              "        Reservoir period  Lithology         Field name Hydrocarbon type  \\\n",
              "0          CARBONIFEROUS  SANDSTONE            ZHIRNOV              OIL   \n",
              "1              PALEOGENE  SANDSTONE        LAGOA PARDA              OIL   \n",
              "2               JURASSIC  LIMESTONE             ABQAIQ              OIL   \n",
              "3               JURASSIC  SANDSTONE          MURCHISON              OIL   \n",
              "4               DEVONIAN   DOLOMITE       WEST PEMBINA              OIL   \n",
              "..                   ...        ...                ...              ...   \n",
              "304  JURASSIC-CRETACEOUS  SANDSTONE              HIDES   GAS-CONDENSATE   \n",
              "305             JURASSIC  SANDSTONE        DRAKE POINT              GAS   \n",
              "306            PALEOGENE  SANDSTONE  ALTAMONT-BLUEBELL              OIL   \n",
              "307           CRETACEOUS  SANDSTONE         BELL CREEK              OIL   \n",
              "308           CRETACEOUS  SANDSTONE          WELL DRAW              OIL   \n",
              "\n",
              "                  Region Onshore/Offshore        Reservoir status  \n",
              "0    FORMER SOVIET UNION          ONSHORE    DECLINING PRODUCTION  \n",
              "1          LATIN AMERICA          ONSHORE         NEARLY DEPLETED  \n",
              "2            MIDDLE EAST          ONSHORE            REJUVENATING  \n",
              "3                 EUROPE         OFFSHORE         NEARLY DEPLETED  \n",
              "4          NORTH AMERICA          ONSHORE                 UNKNOWN  \n",
              "..                   ...              ...                     ...  \n",
              "304             FAR EAST          ONSHORE  CONTINUING DEVELOPMENT  \n",
              "305        NORTH AMERICA          ONSHORE             UNDEVELOPED  \n",
              "306        NORTH AMERICA          ONSHORE       MATURE PRODUCTION  \n",
              "307        NORTH AMERICA          ONSHORE         NEARLY DEPLETED  \n",
              "308        NORTH AMERICA          ONSHORE       MATURE PRODUCTION  \n",
              "\n",
              "[309 rows x 7 columns]"
            ],
            "text/html": [
              "\n",
              "  <div id=\"df-fc0ecd5b-8681-49df-bc5b-4feb40ac7d73\" class=\"colab-df-container\">\n",
              "    <div>\n",
              "<style scoped>\n",
              "    .dataframe tbody tr th:only-of-type {\n",
              "        vertical-align: middle;\n",
              "    }\n",
              "\n",
              "    .dataframe tbody tr th {\n",
              "        vertical-align: top;\n",
              "    }\n",
              "\n",
              "    .dataframe thead th {\n",
              "        text-align: right;\n",
              "    }\n",
              "</style>\n",
              "<table border=\"1\" class=\"dataframe\">\n",
              "  <thead>\n",
              "    <tr style=\"text-align: right;\">\n",
              "      <th></th>\n",
              "      <th>Reservoir period</th>\n",
              "      <th>Lithology</th>\n",
              "      <th>Field name</th>\n",
              "      <th>Hydrocarbon type</th>\n",
              "      <th>Region</th>\n",
              "      <th>Onshore/Offshore</th>\n",
              "      <th>Reservoir status</th>\n",
              "    </tr>\n",
              "  </thead>\n",
              "  <tbody>\n",
              "    <tr>\n",
              "      <th>0</th>\n",
              "      <td>CARBONIFEROUS</td>\n",
              "      <td>SANDSTONE</td>\n",
              "      <td>ZHIRNOV</td>\n",
              "      <td>OIL</td>\n",
              "      <td>FORMER SOVIET UNION</td>\n",
              "      <td>ONSHORE</td>\n",
              "      <td>DECLINING PRODUCTION</td>\n",
              "    </tr>\n",
              "    <tr>\n",
              "      <th>1</th>\n",
              "      <td>PALEOGENE</td>\n",
              "      <td>SANDSTONE</td>\n",
              "      <td>LAGOA PARDA</td>\n",
              "      <td>OIL</td>\n",
              "      <td>LATIN AMERICA</td>\n",
              "      <td>ONSHORE</td>\n",
              "      <td>NEARLY DEPLETED</td>\n",
              "    </tr>\n",
              "    <tr>\n",
              "      <th>2</th>\n",
              "      <td>JURASSIC</td>\n",
              "      <td>LIMESTONE</td>\n",
              "      <td>ABQAIQ</td>\n",
              "      <td>OIL</td>\n",
              "      <td>MIDDLE EAST</td>\n",
              "      <td>ONSHORE</td>\n",
              "      <td>REJUVENATING</td>\n",
              "    </tr>\n",
              "    <tr>\n",
              "      <th>3</th>\n",
              "      <td>JURASSIC</td>\n",
              "      <td>SANDSTONE</td>\n",
              "      <td>MURCHISON</td>\n",
              "      <td>OIL</td>\n",
              "      <td>EUROPE</td>\n",
              "      <td>OFFSHORE</td>\n",
              "      <td>NEARLY DEPLETED</td>\n",
              "    </tr>\n",
              "    <tr>\n",
              "      <th>4</th>\n",
              "      <td>DEVONIAN</td>\n",
              "      <td>DOLOMITE</td>\n",
              "      <td>WEST PEMBINA</td>\n",
              "      <td>OIL</td>\n",
              "      <td>NORTH AMERICA</td>\n",
              "      <td>ONSHORE</td>\n",
              "      <td>UNKNOWN</td>\n",
              "    </tr>\n",
              "    <tr>\n",
              "      <th>...</th>\n",
              "      <td>...</td>\n",
              "      <td>...</td>\n",
              "      <td>...</td>\n",
              "      <td>...</td>\n",
              "      <td>...</td>\n",
              "      <td>...</td>\n",
              "      <td>...</td>\n",
              "    </tr>\n",
              "    <tr>\n",
              "      <th>304</th>\n",
              "      <td>JURASSIC-CRETACEOUS</td>\n",
              "      <td>SANDSTONE</td>\n",
              "      <td>HIDES</td>\n",
              "      <td>GAS-CONDENSATE</td>\n",
              "      <td>FAR EAST</td>\n",
              "      <td>ONSHORE</td>\n",
              "      <td>CONTINUING DEVELOPMENT</td>\n",
              "    </tr>\n",
              "    <tr>\n",
              "      <th>305</th>\n",
              "      <td>JURASSIC</td>\n",
              "      <td>SANDSTONE</td>\n",
              "      <td>DRAKE POINT</td>\n",
              "      <td>GAS</td>\n",
              "      <td>NORTH AMERICA</td>\n",
              "      <td>ONSHORE</td>\n",
              "      <td>UNDEVELOPED</td>\n",
              "    </tr>\n",
              "    <tr>\n",
              "      <th>306</th>\n",
              "      <td>PALEOGENE</td>\n",
              "      <td>SANDSTONE</td>\n",
              "      <td>ALTAMONT-BLUEBELL</td>\n",
              "      <td>OIL</td>\n",
              "      <td>NORTH AMERICA</td>\n",
              "      <td>ONSHORE</td>\n",
              "      <td>MATURE PRODUCTION</td>\n",
              "    </tr>\n",
              "    <tr>\n",
              "      <th>307</th>\n",
              "      <td>CRETACEOUS</td>\n",
              "      <td>SANDSTONE</td>\n",
              "      <td>BELL CREEK</td>\n",
              "      <td>OIL</td>\n",
              "      <td>NORTH AMERICA</td>\n",
              "      <td>ONSHORE</td>\n",
              "      <td>NEARLY DEPLETED</td>\n",
              "    </tr>\n",
              "    <tr>\n",
              "      <th>308</th>\n",
              "      <td>CRETACEOUS</td>\n",
              "      <td>SANDSTONE</td>\n",
              "      <td>WELL DRAW</td>\n",
              "      <td>OIL</td>\n",
              "      <td>NORTH AMERICA</td>\n",
              "      <td>ONSHORE</td>\n",
              "      <td>MATURE PRODUCTION</td>\n",
              "    </tr>\n",
              "  </tbody>\n",
              "</table>\n",
              "<p>309 rows × 7 columns</p>\n",
              "</div>\n",
              "    <div class=\"colab-df-buttons\">\n",
              "\n",
              "  <div class=\"colab-df-container\">\n",
              "    <button class=\"colab-df-convert\" onclick=\"convertToInteractive('df-fc0ecd5b-8681-49df-bc5b-4feb40ac7d73')\"\n",
              "            title=\"Convert this dataframe to an interactive table.\"\n",
              "            style=\"display:none;\">\n",
              "\n",
              "  <svg xmlns=\"http://www.w3.org/2000/svg\" height=\"24px\" viewBox=\"0 -960 960 960\">\n",
              "    <path d=\"M120-120v-720h720v720H120Zm60-500h600v-160H180v160Zm220 220h160v-160H400v160Zm0 220h160v-160H400v160ZM180-400h160v-160H180v160Zm440 0h160v-160H620v160ZM180-180h160v-160H180v160Zm440 0h160v-160H620v160Z\"/>\n",
              "  </svg>\n",
              "    </button>\n",
              "\n",
              "  <style>\n",
              "    .colab-df-container {\n",
              "      display:flex;\n",
              "      gap: 12px;\n",
              "    }\n",
              "\n",
              "    .colab-df-convert {\n",
              "      background-color: #E8F0FE;\n",
              "      border: none;\n",
              "      border-radius: 50%;\n",
              "      cursor: pointer;\n",
              "      display: none;\n",
              "      fill: #1967D2;\n",
              "      height: 32px;\n",
              "      padding: 0 0 0 0;\n",
              "      width: 32px;\n",
              "    }\n",
              "\n",
              "    .colab-df-convert:hover {\n",
              "      background-color: #E2EBFA;\n",
              "      box-shadow: 0px 1px 2px rgba(60, 64, 67, 0.3), 0px 1px 3px 1px rgba(60, 64, 67, 0.15);\n",
              "      fill: #174EA6;\n",
              "    }\n",
              "\n",
              "    .colab-df-buttons div {\n",
              "      margin-bottom: 4px;\n",
              "    }\n",
              "\n",
              "    [theme=dark] .colab-df-convert {\n",
              "      background-color: #3B4455;\n",
              "      fill: #D2E3FC;\n",
              "    }\n",
              "\n",
              "    [theme=dark] .colab-df-convert:hover {\n",
              "      background-color: #434B5C;\n",
              "      box-shadow: 0px 1px 3px 1px rgba(0, 0, 0, 0.15);\n",
              "      filter: drop-shadow(0px 1px 2px rgba(0, 0, 0, 0.3));\n",
              "      fill: #FFFFFF;\n",
              "    }\n",
              "  </style>\n",
              "\n",
              "    <script>\n",
              "      const buttonEl =\n",
              "        document.querySelector('#df-fc0ecd5b-8681-49df-bc5b-4feb40ac7d73 button.colab-df-convert');\n",
              "      buttonEl.style.display =\n",
              "        google.colab.kernel.accessAllowed ? 'block' : 'none';\n",
              "\n",
              "      async function convertToInteractive(key) {\n",
              "        const element = document.querySelector('#df-fc0ecd5b-8681-49df-bc5b-4feb40ac7d73');\n",
              "        const dataTable =\n",
              "          await google.colab.kernel.invokeFunction('convertToInteractive',\n",
              "                                                    [key], {});\n",
              "        if (!dataTable) return;\n",
              "\n",
              "        const docLinkHtml = 'Like what you see? Visit the ' +\n",
              "          '<a target=\"_blank\" href=https://colab.research.google.com/notebooks/data_table.ipynb>data table notebook</a>'\n",
              "          + ' to learn more about interactive tables.';\n",
              "        element.innerHTML = '';\n",
              "        dataTable['output_type'] = 'display_data';\n",
              "        await google.colab.output.renderOutput(dataTable, element);\n",
              "        const docLink = document.createElement('div');\n",
              "        docLink.innerHTML = docLinkHtml;\n",
              "        element.appendChild(docLink);\n",
              "      }\n",
              "    </script>\n",
              "  </div>\n",
              "\n",
              "\n",
              "<div id=\"df-6e7dcaf2-565b-40fd-83c7-b0e5b74e0823\">\n",
              "  <button class=\"colab-df-quickchart\" onclick=\"quickchart('df-6e7dcaf2-565b-40fd-83c7-b0e5b74e0823')\"\n",
              "            title=\"Suggest charts\"\n",
              "            style=\"display:none;\">\n",
              "\n",
              "<svg xmlns=\"http://www.w3.org/2000/svg\" height=\"24px\"viewBox=\"0 0 24 24\"\n",
              "     width=\"24px\">\n",
              "    <g>\n",
              "        <path d=\"M19 3H5c-1.1 0-2 .9-2 2v14c0 1.1.9 2 2 2h14c1.1 0 2-.9 2-2V5c0-1.1-.9-2-2-2zM9 17H7v-7h2v7zm4 0h-2V7h2v10zm4 0h-2v-4h2v4z\"/>\n",
              "    </g>\n",
              "</svg>\n",
              "  </button>\n",
              "\n",
              "<style>\n",
              "  .colab-df-quickchart {\n",
              "      --bg-color: #E8F0FE;\n",
              "      --fill-color: #1967D2;\n",
              "      --hover-bg-color: #E2EBFA;\n",
              "      --hover-fill-color: #174EA6;\n",
              "      --disabled-fill-color: #AAA;\n",
              "      --disabled-bg-color: #DDD;\n",
              "  }\n",
              "\n",
              "  [theme=dark] .colab-df-quickchart {\n",
              "      --bg-color: #3B4455;\n",
              "      --fill-color: #D2E3FC;\n",
              "      --hover-bg-color: #434B5C;\n",
              "      --hover-fill-color: #FFFFFF;\n",
              "      --disabled-bg-color: #3B4455;\n",
              "      --disabled-fill-color: #666;\n",
              "  }\n",
              "\n",
              "  .colab-df-quickchart {\n",
              "    background-color: var(--bg-color);\n",
              "    border: none;\n",
              "    border-radius: 50%;\n",
              "    cursor: pointer;\n",
              "    display: none;\n",
              "    fill: var(--fill-color);\n",
              "    height: 32px;\n",
              "    padding: 0;\n",
              "    width: 32px;\n",
              "  }\n",
              "\n",
              "  .colab-df-quickchart:hover {\n",
              "    background-color: var(--hover-bg-color);\n",
              "    box-shadow: 0 1px 2px rgba(60, 64, 67, 0.3), 0 1px 3px 1px rgba(60, 64, 67, 0.15);\n",
              "    fill: var(--button-hover-fill-color);\n",
              "  }\n",
              "\n",
              "  .colab-df-quickchart-complete:disabled,\n",
              "  .colab-df-quickchart-complete:disabled:hover {\n",
              "    background-color: var(--disabled-bg-color);\n",
              "    fill: var(--disabled-fill-color);\n",
              "    box-shadow: none;\n",
              "  }\n",
              "\n",
              "  .colab-df-spinner {\n",
              "    border: 2px solid var(--fill-color);\n",
              "    border-color: transparent;\n",
              "    border-bottom-color: var(--fill-color);\n",
              "    animation:\n",
              "      spin 1s steps(1) infinite;\n",
              "  }\n",
              "\n",
              "  @keyframes spin {\n",
              "    0% {\n",
              "      border-color: transparent;\n",
              "      border-bottom-color: var(--fill-color);\n",
              "      border-left-color: var(--fill-color);\n",
              "    }\n",
              "    20% {\n",
              "      border-color: transparent;\n",
              "      border-left-color: var(--fill-color);\n",
              "      border-top-color: var(--fill-color);\n",
              "    }\n",
              "    30% {\n",
              "      border-color: transparent;\n",
              "      border-left-color: var(--fill-color);\n",
              "      border-top-color: var(--fill-color);\n",
              "      border-right-color: var(--fill-color);\n",
              "    }\n",
              "    40% {\n",
              "      border-color: transparent;\n",
              "      border-right-color: var(--fill-color);\n",
              "      border-top-color: var(--fill-color);\n",
              "    }\n",
              "    60% {\n",
              "      border-color: transparent;\n",
              "      border-right-color: var(--fill-color);\n",
              "    }\n",
              "    80% {\n",
              "      border-color: transparent;\n",
              "      border-right-color: var(--fill-color);\n",
              "      border-bottom-color: var(--fill-color);\n",
              "    }\n",
              "    90% {\n",
              "      border-color: transparent;\n",
              "      border-bottom-color: var(--fill-color);\n",
              "    }\n",
              "  }\n",
              "</style>\n",
              "\n",
              "  <script>\n",
              "    async function quickchart(key) {\n",
              "      const quickchartButtonEl =\n",
              "        document.querySelector('#' + key + ' button');\n",
              "      quickchartButtonEl.disabled = true;  // To prevent multiple clicks.\n",
              "      quickchartButtonEl.classList.add('colab-df-spinner');\n",
              "      try {\n",
              "        const charts = await google.colab.kernel.invokeFunction(\n",
              "            'suggestCharts', [key], {});\n",
              "      } catch (error) {\n",
              "        console.error('Error during call to suggestCharts:', error);\n",
              "      }\n",
              "      quickchartButtonEl.classList.remove('colab-df-spinner');\n",
              "      quickchartButtonEl.classList.add('colab-df-quickchart-complete');\n",
              "    }\n",
              "    (() => {\n",
              "      let quickchartButtonEl =\n",
              "        document.querySelector('#df-6e7dcaf2-565b-40fd-83c7-b0e5b74e0823 button');\n",
              "      quickchartButtonEl.style.display =\n",
              "        google.colab.kernel.accessAllowed ? 'block' : 'none';\n",
              "    })();\n",
              "  </script>\n",
              "</div>\n",
              "    </div>\n",
              "  </div>\n"
            ]
          },
          "metadata": {},
          "execution_count": 676
        }
      ]
    },
    {
      "cell_type": "code",
      "source": [
        "norm_cols = list(filter(lambda x: train.shape[0] / len(count(train[x])) > fi, obj_cols_without_slash))\n",
        "print(norm_cols)"
      ],
      "metadata": {
        "colab": {
          "base_uri": "https://localhost:8080/"
        },
        "id": "aTJbHI6IMkzd",
        "outputId": "0dd1d57d-89b3-4661-877e-d0cfd99cd08c"
      },
      "execution_count": null,
      "outputs": [
        {
          "output_type": "stream",
          "name": "stdout",
          "text": [
            "['Reservoir period', 'Lithology', 'Hydrocarbon type', 'Region', 'Onshore/Offshore', 'Reservoir status']\n"
          ]
        }
      ]
    },
    {
      "cell_type": "code",
      "source": [
        "def split_elements_with_slash(input_list):\n",
        "    result_list = []\n",
        "\n",
        "    for item in input_list:\n",
        "        if '/' in item:\n",
        "            result_list.extend(item.split('/'))\n",
        "        else:\n",
        "            result_list.append(item)\n",
        "\n",
        "    return result_list"
      ],
      "metadata": {
        "id": "4QGdZJkpS8Se"
      },
      "execution_count": null,
      "outputs": []
    },
    {
      "cell_type": "code",
      "source": [
        "norm_cols_with_slash = list(filter(lambda x: train.shape[0] / len(count(split_elements_with_slash(np.array(train[x], dtype='str')))) > fi, cols_with_slash))\n",
        "norm_cols_with_slash"
      ],
      "metadata": {
        "colab": {
          "base_uri": "https://localhost:8080/"
        },
        "id": "RIHZz2WlP-2n",
        "outputId": "74937fe5-6292-4490-d0e5-a6af283f33e5"
      },
      "execution_count": null,
      "outputs": [
        {
          "output_type": "execute_result",
          "data": {
            "text/plain": [
              "['Tectonic regime', 'Structural setting']"
            ]
          },
          "metadata": {},
          "execution_count": 679
        }
      ]
    },
    {
      "cell_type": "code",
      "source": [
        "df_train = train[norm_cols + norm_cols_with_slash + num_cols].copy()\n",
        "df_train"
      ],
      "metadata": {
        "colab": {
          "base_uri": "https://localhost:8080/"
        },
        "id": "I6rT3o-6UQcc",
        "outputId": "22714432-8414-49cb-bce1-1c6b8a20c2c8"
      },
      "execution_count": null,
      "outputs": [
        {
          "output_type": "execute_result",
          "data": {
            "text/plain": [
              "        Reservoir period  Lithology Hydrocarbon type               Region  \\\n",
              "0          CARBONIFEROUS  SANDSTONE              OIL  FORMER SOVIET UNION   \n",
              "1              PALEOGENE  SANDSTONE              OIL        LATIN AMERICA   \n",
              "2               JURASSIC  LIMESTONE              OIL          MIDDLE EAST   \n",
              "3               JURASSIC  SANDSTONE              OIL               EUROPE   \n",
              "4               DEVONIAN   DOLOMITE              OIL        NORTH AMERICA   \n",
              "..                   ...        ...              ...                  ...   \n",
              "304  JURASSIC-CRETACEOUS  SANDSTONE   GAS-CONDENSATE             FAR EAST   \n",
              "305             JURASSIC  SANDSTONE              GAS        NORTH AMERICA   \n",
              "306            PALEOGENE  SANDSTONE              OIL        NORTH AMERICA   \n",
              "307           CRETACEOUS  SANDSTONE              OIL        NORTH AMERICA   \n",
              "308           CRETACEOUS  SANDSTONE              OIL        NORTH AMERICA   \n",
              "\n",
              "    Onshore/Offshore        Reservoir status  \\\n",
              "0            ONSHORE    DECLINING PRODUCTION   \n",
              "1            ONSHORE         NEARLY DEPLETED   \n",
              "2            ONSHORE            REJUVENATING   \n",
              "3           OFFSHORE         NEARLY DEPLETED   \n",
              "4            ONSHORE                 UNKNOWN   \n",
              "..               ...                     ...   \n",
              "304          ONSHORE  CONTINUING DEVELOPMENT   \n",
              "305          ONSHORE             UNDEVELOPED   \n",
              "306          ONSHORE       MATURE PRODUCTION   \n",
              "307          ONSHORE         NEARLY DEPLETED   \n",
              "308          ONSHORE       MATURE PRODUCTION   \n",
              "\n",
              "                            Tectonic regime Structural setting  Latitude  \\\n",
              "0                     COMPRESSION/EVAPORITE           FORELAND   51.0000   \n",
              "1                                 EXTENSION     PASSIVE MARGIN  -19.6017   \n",
              "2                     COMPRESSION/EVAPORITE           FORELAND   26.0800   \n",
              "3                                 EXTENSION               RIFT   61.3833   \n",
              "4                               COMPRESSION           FORELAND   53.2287   \n",
              "..                                      ...                ...       ...   \n",
              "304                             COMPRESSION             THRUST   -6.0136   \n",
              "305  COMPRESSION/EVAPORITE/EXTENSION/LINKED           FORELAND   76.4462   \n",
              "306                             COMPRESSION           FORELAND   40.3000   \n",
              "307                             COMPRESSION           FORELAND   45.1039   \n",
              "308                             COMPRESSION           FORELAND   43.0060   \n",
              "\n",
              "     Longitude  Depth  Thickness (gross average ft)  \\\n",
              "0      44.8042   1870                         262.0   \n",
              "1     -39.8332   4843                        2133.0   \n",
              "2      49.8100   6050                         250.0   \n",
              "3       1.7500   8988                         425.0   \n",
              "4    -115.8008   9306                         233.0   \n",
              "..         ...    ...                           ...   \n",
              "304   142.8409   9905                         490.0   \n",
              "305  -108.9172   3390                         100.0   \n",
              "306  -110.2100  15250                        8000.0   \n",
              "307  -105.0967   4300                          45.0   \n",
              "308  -105.1392   6367                         110.0   \n",
              "\n",
              "     Thickness (net pay average ft)  Porosity  Permeability  \n",
              "0                              33.0      24.0          30.0  \n",
              "1                              72.0      23.0         350.0  \n",
              "2                             184.0      21.0         410.0  \n",
              "3                             300.0      22.0         750.0  \n",
              "4                             167.0      11.8        1407.0  \n",
              "..                              ...       ...           ...  \n",
              "304                           240.0      10.0         100.0  \n",
              "305                            71.0      20.0         566.0  \n",
              "306                           575.0       5.0           0.1  \n",
              "307                            23.0      28.5        2250.0  \n",
              "308                            17.0      14.0           4.3  \n",
              "\n",
              "[309 rows x 15 columns]"
            ],
            "text/html": [
              "\n",
              "  <div id=\"df-23a8c6cf-5e27-4e8d-8e4b-ba979f755aa3\" class=\"colab-df-container\">\n",
              "    <div>\n",
              "<style scoped>\n",
              "    .dataframe tbody tr th:only-of-type {\n",
              "        vertical-align: middle;\n",
              "    }\n",
              "\n",
              "    .dataframe tbody tr th {\n",
              "        vertical-align: top;\n",
              "    }\n",
              "\n",
              "    .dataframe thead th {\n",
              "        text-align: right;\n",
              "    }\n",
              "</style>\n",
              "<table border=\"1\" class=\"dataframe\">\n",
              "  <thead>\n",
              "    <tr style=\"text-align: right;\">\n",
              "      <th></th>\n",
              "      <th>Reservoir period</th>\n",
              "      <th>Lithology</th>\n",
              "      <th>Hydrocarbon type</th>\n",
              "      <th>Region</th>\n",
              "      <th>Onshore/Offshore</th>\n",
              "      <th>Reservoir status</th>\n",
              "      <th>Tectonic regime</th>\n",
              "      <th>Structural setting</th>\n",
              "      <th>Latitude</th>\n",
              "      <th>Longitude</th>\n",
              "      <th>Depth</th>\n",
              "      <th>Thickness (gross average ft)</th>\n",
              "      <th>Thickness (net pay average ft)</th>\n",
              "      <th>Porosity</th>\n",
              "      <th>Permeability</th>\n",
              "    </tr>\n",
              "  </thead>\n",
              "  <tbody>\n",
              "    <tr>\n",
              "      <th>0</th>\n",
              "      <td>CARBONIFEROUS</td>\n",
              "      <td>SANDSTONE</td>\n",
              "      <td>OIL</td>\n",
              "      <td>FORMER SOVIET UNION</td>\n",
              "      <td>ONSHORE</td>\n",
              "      <td>DECLINING PRODUCTION</td>\n",
              "      <td>COMPRESSION/EVAPORITE</td>\n",
              "      <td>FORELAND</td>\n",
              "      <td>51.0000</td>\n",
              "      <td>44.8042</td>\n",
              "      <td>1870</td>\n",
              "      <td>262.0</td>\n",
              "      <td>33.0</td>\n",
              "      <td>24.0</td>\n",
              "      <td>30.0</td>\n",
              "    </tr>\n",
              "    <tr>\n",
              "      <th>1</th>\n",
              "      <td>PALEOGENE</td>\n",
              "      <td>SANDSTONE</td>\n",
              "      <td>OIL</td>\n",
              "      <td>LATIN AMERICA</td>\n",
              "      <td>ONSHORE</td>\n",
              "      <td>NEARLY DEPLETED</td>\n",
              "      <td>EXTENSION</td>\n",
              "      <td>PASSIVE MARGIN</td>\n",
              "      <td>-19.6017</td>\n",
              "      <td>-39.8332</td>\n",
              "      <td>4843</td>\n",
              "      <td>2133.0</td>\n",
              "      <td>72.0</td>\n",
              "      <td>23.0</td>\n",
              "      <td>350.0</td>\n",
              "    </tr>\n",
              "    <tr>\n",
              "      <th>2</th>\n",
              "      <td>JURASSIC</td>\n",
              "      <td>LIMESTONE</td>\n",
              "      <td>OIL</td>\n",
              "      <td>MIDDLE EAST</td>\n",
              "      <td>ONSHORE</td>\n",
              "      <td>REJUVENATING</td>\n",
              "      <td>COMPRESSION/EVAPORITE</td>\n",
              "      <td>FORELAND</td>\n",
              "      <td>26.0800</td>\n",
              "      <td>49.8100</td>\n",
              "      <td>6050</td>\n",
              "      <td>250.0</td>\n",
              "      <td>184.0</td>\n",
              "      <td>21.0</td>\n",
              "      <td>410.0</td>\n",
              "    </tr>\n",
              "    <tr>\n",
              "      <th>3</th>\n",
              "      <td>JURASSIC</td>\n",
              "      <td>SANDSTONE</td>\n",
              "      <td>OIL</td>\n",
              "      <td>EUROPE</td>\n",
              "      <td>OFFSHORE</td>\n",
              "      <td>NEARLY DEPLETED</td>\n",
              "      <td>EXTENSION</td>\n",
              "      <td>RIFT</td>\n",
              "      <td>61.3833</td>\n",
              "      <td>1.7500</td>\n",
              "      <td>8988</td>\n",
              "      <td>425.0</td>\n",
              "      <td>300.0</td>\n",
              "      <td>22.0</td>\n",
              "      <td>750.0</td>\n",
              "    </tr>\n",
              "    <tr>\n",
              "      <th>4</th>\n",
              "      <td>DEVONIAN</td>\n",
              "      <td>DOLOMITE</td>\n",
              "      <td>OIL</td>\n",
              "      <td>NORTH AMERICA</td>\n",
              "      <td>ONSHORE</td>\n",
              "      <td>UNKNOWN</td>\n",
              "      <td>COMPRESSION</td>\n",
              "      <td>FORELAND</td>\n",
              "      <td>53.2287</td>\n",
              "      <td>-115.8008</td>\n",
              "      <td>9306</td>\n",
              "      <td>233.0</td>\n",
              "      <td>167.0</td>\n",
              "      <td>11.8</td>\n",
              "      <td>1407.0</td>\n",
              "    </tr>\n",
              "    <tr>\n",
              "      <th>...</th>\n",
              "      <td>...</td>\n",
              "      <td>...</td>\n",
              "      <td>...</td>\n",
              "      <td>...</td>\n",
              "      <td>...</td>\n",
              "      <td>...</td>\n",
              "      <td>...</td>\n",
              "      <td>...</td>\n",
              "      <td>...</td>\n",
              "      <td>...</td>\n",
              "      <td>...</td>\n",
              "      <td>...</td>\n",
              "      <td>...</td>\n",
              "      <td>...</td>\n",
              "      <td>...</td>\n",
              "    </tr>\n",
              "    <tr>\n",
              "      <th>304</th>\n",
              "      <td>JURASSIC-CRETACEOUS</td>\n",
              "      <td>SANDSTONE</td>\n",
              "      <td>GAS-CONDENSATE</td>\n",
              "      <td>FAR EAST</td>\n",
              "      <td>ONSHORE</td>\n",
              "      <td>CONTINUING DEVELOPMENT</td>\n",
              "      <td>COMPRESSION</td>\n",
              "      <td>THRUST</td>\n",
              "      <td>-6.0136</td>\n",
              "      <td>142.8409</td>\n",
              "      <td>9905</td>\n",
              "      <td>490.0</td>\n",
              "      <td>240.0</td>\n",
              "      <td>10.0</td>\n",
              "      <td>100.0</td>\n",
              "    </tr>\n",
              "    <tr>\n",
              "      <th>305</th>\n",
              "      <td>JURASSIC</td>\n",
              "      <td>SANDSTONE</td>\n",
              "      <td>GAS</td>\n",
              "      <td>NORTH AMERICA</td>\n",
              "      <td>ONSHORE</td>\n",
              "      <td>UNDEVELOPED</td>\n",
              "      <td>COMPRESSION/EVAPORITE/EXTENSION/LINKED</td>\n",
              "      <td>FORELAND</td>\n",
              "      <td>76.4462</td>\n",
              "      <td>-108.9172</td>\n",
              "      <td>3390</td>\n",
              "      <td>100.0</td>\n",
              "      <td>71.0</td>\n",
              "      <td>20.0</td>\n",
              "      <td>566.0</td>\n",
              "    </tr>\n",
              "    <tr>\n",
              "      <th>306</th>\n",
              "      <td>PALEOGENE</td>\n",
              "      <td>SANDSTONE</td>\n",
              "      <td>OIL</td>\n",
              "      <td>NORTH AMERICA</td>\n",
              "      <td>ONSHORE</td>\n",
              "      <td>MATURE PRODUCTION</td>\n",
              "      <td>COMPRESSION</td>\n",
              "      <td>FORELAND</td>\n",
              "      <td>40.3000</td>\n",
              "      <td>-110.2100</td>\n",
              "      <td>15250</td>\n",
              "      <td>8000.0</td>\n",
              "      <td>575.0</td>\n",
              "      <td>5.0</td>\n",
              "      <td>0.1</td>\n",
              "    </tr>\n",
              "    <tr>\n",
              "      <th>307</th>\n",
              "      <td>CRETACEOUS</td>\n",
              "      <td>SANDSTONE</td>\n",
              "      <td>OIL</td>\n",
              "      <td>NORTH AMERICA</td>\n",
              "      <td>ONSHORE</td>\n",
              "      <td>NEARLY DEPLETED</td>\n",
              "      <td>COMPRESSION</td>\n",
              "      <td>FORELAND</td>\n",
              "      <td>45.1039</td>\n",
              "      <td>-105.0967</td>\n",
              "      <td>4300</td>\n",
              "      <td>45.0</td>\n",
              "      <td>23.0</td>\n",
              "      <td>28.5</td>\n",
              "      <td>2250.0</td>\n",
              "    </tr>\n",
              "    <tr>\n",
              "      <th>308</th>\n",
              "      <td>CRETACEOUS</td>\n",
              "      <td>SANDSTONE</td>\n",
              "      <td>OIL</td>\n",
              "      <td>NORTH AMERICA</td>\n",
              "      <td>ONSHORE</td>\n",
              "      <td>MATURE PRODUCTION</td>\n",
              "      <td>COMPRESSION</td>\n",
              "      <td>FORELAND</td>\n",
              "      <td>43.0060</td>\n",
              "      <td>-105.1392</td>\n",
              "      <td>6367</td>\n",
              "      <td>110.0</td>\n",
              "      <td>17.0</td>\n",
              "      <td>14.0</td>\n",
              "      <td>4.3</td>\n",
              "    </tr>\n",
              "  </tbody>\n",
              "</table>\n",
              "<p>309 rows × 15 columns</p>\n",
              "</div>\n",
              "    <div class=\"colab-df-buttons\">\n",
              "\n",
              "  <div class=\"colab-df-container\">\n",
              "    <button class=\"colab-df-convert\" onclick=\"convertToInteractive('df-23a8c6cf-5e27-4e8d-8e4b-ba979f755aa3')\"\n",
              "            title=\"Convert this dataframe to an interactive table.\"\n",
              "            style=\"display:none;\">\n",
              "\n",
              "  <svg xmlns=\"http://www.w3.org/2000/svg\" height=\"24px\" viewBox=\"0 -960 960 960\">\n",
              "    <path d=\"M120-120v-720h720v720H120Zm60-500h600v-160H180v160Zm220 220h160v-160H400v160Zm0 220h160v-160H400v160ZM180-400h160v-160H180v160Zm440 0h160v-160H620v160ZM180-180h160v-160H180v160Zm440 0h160v-160H620v160Z\"/>\n",
              "  </svg>\n",
              "    </button>\n",
              "\n",
              "  <style>\n",
              "    .colab-df-container {\n",
              "      display:flex;\n",
              "      gap: 12px;\n",
              "    }\n",
              "\n",
              "    .colab-df-convert {\n",
              "      background-color: #E8F0FE;\n",
              "      border: none;\n",
              "      border-radius: 50%;\n",
              "      cursor: pointer;\n",
              "      display: none;\n",
              "      fill: #1967D2;\n",
              "      height: 32px;\n",
              "      padding: 0 0 0 0;\n",
              "      width: 32px;\n",
              "    }\n",
              "\n",
              "    .colab-df-convert:hover {\n",
              "      background-color: #E2EBFA;\n",
              "      box-shadow: 0px 1px 2px rgba(60, 64, 67, 0.3), 0px 1px 3px 1px rgba(60, 64, 67, 0.15);\n",
              "      fill: #174EA6;\n",
              "    }\n",
              "\n",
              "    .colab-df-buttons div {\n",
              "      margin-bottom: 4px;\n",
              "    }\n",
              "\n",
              "    [theme=dark] .colab-df-convert {\n",
              "      background-color: #3B4455;\n",
              "      fill: #D2E3FC;\n",
              "    }\n",
              "\n",
              "    [theme=dark] .colab-df-convert:hover {\n",
              "      background-color: #434B5C;\n",
              "      box-shadow: 0px 1px 3px 1px rgba(0, 0, 0, 0.15);\n",
              "      filter: drop-shadow(0px 1px 2px rgba(0, 0, 0, 0.3));\n",
              "      fill: #FFFFFF;\n",
              "    }\n",
              "  </style>\n",
              "\n",
              "    <script>\n",
              "      const buttonEl =\n",
              "        document.querySelector('#df-23a8c6cf-5e27-4e8d-8e4b-ba979f755aa3 button.colab-df-convert');\n",
              "      buttonEl.style.display =\n",
              "        google.colab.kernel.accessAllowed ? 'block' : 'none';\n",
              "\n",
              "      async function convertToInteractive(key) {\n",
              "        const element = document.querySelector('#df-23a8c6cf-5e27-4e8d-8e4b-ba979f755aa3');\n",
              "        const dataTable =\n",
              "          await google.colab.kernel.invokeFunction('convertToInteractive',\n",
              "                                                    [key], {});\n",
              "        if (!dataTable) return;\n",
              "\n",
              "        const docLinkHtml = 'Like what you see? Visit the ' +\n",
              "          '<a target=\"_blank\" href=https://colab.research.google.com/notebooks/data_table.ipynb>data table notebook</a>'\n",
              "          + ' to learn more about interactive tables.';\n",
              "        element.innerHTML = '';\n",
              "        dataTable['output_type'] = 'display_data';\n",
              "        await google.colab.output.renderOutput(dataTable, element);\n",
              "        const docLink = document.createElement('div');\n",
              "        docLink.innerHTML = docLinkHtml;\n",
              "        element.appendChild(docLink);\n",
              "      }\n",
              "    </script>\n",
              "  </div>\n",
              "\n",
              "\n",
              "<div id=\"df-0c15cc9d-8aa8-4a84-8d3d-44f6b3d53cfe\">\n",
              "  <button class=\"colab-df-quickchart\" onclick=\"quickchart('df-0c15cc9d-8aa8-4a84-8d3d-44f6b3d53cfe')\"\n",
              "            title=\"Suggest charts\"\n",
              "            style=\"display:none;\">\n",
              "\n",
              "<svg xmlns=\"http://www.w3.org/2000/svg\" height=\"24px\"viewBox=\"0 0 24 24\"\n",
              "     width=\"24px\">\n",
              "    <g>\n",
              "        <path d=\"M19 3H5c-1.1 0-2 .9-2 2v14c0 1.1.9 2 2 2h14c1.1 0 2-.9 2-2V5c0-1.1-.9-2-2-2zM9 17H7v-7h2v7zm4 0h-2V7h2v10zm4 0h-2v-4h2v4z\"/>\n",
              "    </g>\n",
              "</svg>\n",
              "  </button>\n",
              "\n",
              "<style>\n",
              "  .colab-df-quickchart {\n",
              "      --bg-color: #E8F0FE;\n",
              "      --fill-color: #1967D2;\n",
              "      --hover-bg-color: #E2EBFA;\n",
              "      --hover-fill-color: #174EA6;\n",
              "      --disabled-fill-color: #AAA;\n",
              "      --disabled-bg-color: #DDD;\n",
              "  }\n",
              "\n",
              "  [theme=dark] .colab-df-quickchart {\n",
              "      --bg-color: #3B4455;\n",
              "      --fill-color: #D2E3FC;\n",
              "      --hover-bg-color: #434B5C;\n",
              "      --hover-fill-color: #FFFFFF;\n",
              "      --disabled-bg-color: #3B4455;\n",
              "      --disabled-fill-color: #666;\n",
              "  }\n",
              "\n",
              "  .colab-df-quickchart {\n",
              "    background-color: var(--bg-color);\n",
              "    border: none;\n",
              "    border-radius: 50%;\n",
              "    cursor: pointer;\n",
              "    display: none;\n",
              "    fill: var(--fill-color);\n",
              "    height: 32px;\n",
              "    padding: 0;\n",
              "    width: 32px;\n",
              "  }\n",
              "\n",
              "  .colab-df-quickchart:hover {\n",
              "    background-color: var(--hover-bg-color);\n",
              "    box-shadow: 0 1px 2px rgba(60, 64, 67, 0.3), 0 1px 3px 1px rgba(60, 64, 67, 0.15);\n",
              "    fill: var(--button-hover-fill-color);\n",
              "  }\n",
              "\n",
              "  .colab-df-quickchart-complete:disabled,\n",
              "  .colab-df-quickchart-complete:disabled:hover {\n",
              "    background-color: var(--disabled-bg-color);\n",
              "    fill: var(--disabled-fill-color);\n",
              "    box-shadow: none;\n",
              "  }\n",
              "\n",
              "  .colab-df-spinner {\n",
              "    border: 2px solid var(--fill-color);\n",
              "    border-color: transparent;\n",
              "    border-bottom-color: var(--fill-color);\n",
              "    animation:\n",
              "      spin 1s steps(1) infinite;\n",
              "  }\n",
              "\n",
              "  @keyframes spin {\n",
              "    0% {\n",
              "      border-color: transparent;\n",
              "      border-bottom-color: var(--fill-color);\n",
              "      border-left-color: var(--fill-color);\n",
              "    }\n",
              "    20% {\n",
              "      border-color: transparent;\n",
              "      border-left-color: var(--fill-color);\n",
              "      border-top-color: var(--fill-color);\n",
              "    }\n",
              "    30% {\n",
              "      border-color: transparent;\n",
              "      border-left-color: var(--fill-color);\n",
              "      border-top-color: var(--fill-color);\n",
              "      border-right-color: var(--fill-color);\n",
              "    }\n",
              "    40% {\n",
              "      border-color: transparent;\n",
              "      border-right-color: var(--fill-color);\n",
              "      border-top-color: var(--fill-color);\n",
              "    }\n",
              "    60% {\n",
              "      border-color: transparent;\n",
              "      border-right-color: var(--fill-color);\n",
              "    }\n",
              "    80% {\n",
              "      border-color: transparent;\n",
              "      border-right-color: var(--fill-color);\n",
              "      border-bottom-color: var(--fill-color);\n",
              "    }\n",
              "    90% {\n",
              "      border-color: transparent;\n",
              "      border-bottom-color: var(--fill-color);\n",
              "    }\n",
              "  }\n",
              "</style>\n",
              "\n",
              "  <script>\n",
              "    async function quickchart(key) {\n",
              "      const quickchartButtonEl =\n",
              "        document.querySelector('#' + key + ' button');\n",
              "      quickchartButtonEl.disabled = true;  // To prevent multiple clicks.\n",
              "      quickchartButtonEl.classList.add('colab-df-spinner');\n",
              "      try {\n",
              "        const charts = await google.colab.kernel.invokeFunction(\n",
              "            'suggestCharts', [key], {});\n",
              "      } catch (error) {\n",
              "        console.error('Error during call to suggestCharts:', error);\n",
              "      }\n",
              "      quickchartButtonEl.classList.remove('colab-df-spinner');\n",
              "      quickchartButtonEl.classList.add('colab-df-quickchart-complete');\n",
              "    }\n",
              "    (() => {\n",
              "      let quickchartButtonEl =\n",
              "        document.querySelector('#df-0c15cc9d-8aa8-4a84-8d3d-44f6b3d53cfe button');\n",
              "      quickchartButtonEl.style.display =\n",
              "        google.colab.kernel.accessAllowed ? 'block' : 'none';\n",
              "    })();\n",
              "  </script>\n",
              "</div>\n",
              "    </div>\n",
              "  </div>\n"
            ]
          },
          "metadata": {},
          "execution_count": 680
        }
      ]
    },
    {
      "cell_type": "code",
      "source": [
        "cols_with_none = []\n",
        "for i in range(df_train.shape[1]):\n",
        "    if df_train.iloc[:, i].isna().sum():\n",
        "        cols_with_none.append(df_train.iloc[:, i].name)\n",
        "cols_with_none"
      ],
      "metadata": {
        "colab": {
          "base_uri": "https://localhost:8080/"
        },
        "id": "IWGOHEcZYw7X",
        "outputId": "f7e63ca4-2d99-4979-ae66-4e68f051884e"
      },
      "execution_count": null,
      "outputs": [
        {
          "output_type": "execute_result",
          "data": {
            "text/plain": [
              "['Region', 'Latitude', 'Longitude']"
            ]
          },
          "metadata": {},
          "execution_count": 681
        }
      ]
    },
    {
      "cell_type": "code",
      "source": [
        "country = sorted(count(df_train['Region']).items(), key=lambda x: x[-1])[-1][0]\n",
        "df_train['Region'].fillna(country, inplace=True)"
      ],
      "metadata": {
        "id": "aYkZJJJas8Xa"
      },
      "execution_count": null,
      "outputs": []
    },
    {
      "cell_type": "code",
      "source": [
        "df_train.isna().sum()"
      ],
      "metadata": {
        "colab": {
          "base_uri": "https://localhost:8080/"
        },
        "id": "AI-2zyxJtnyl",
        "outputId": "4d76f8e3-d01a-446f-e123-61e557f5756a"
      },
      "execution_count": null,
      "outputs": [
        {
          "output_type": "execute_result",
          "data": {
            "text/plain": [
              "Reservoir period                   0\n",
              "Lithology                          0\n",
              "Hydrocarbon type                   0\n",
              "Region                             0\n",
              "Onshore/Offshore                   0\n",
              "Reservoir status                   0\n",
              "Tectonic regime                    0\n",
              "Structural setting                 0\n",
              "Latitude                          27\n",
              "Longitude                         30\n",
              "Depth                              0\n",
              "Thickness (gross average ft)       0\n",
              "Thickness (net pay average ft)     0\n",
              "Porosity                           0\n",
              "Permeability                       0\n",
              "dtype: int64"
            ]
          },
          "metadata": {},
          "execution_count": 683
        }
      ]
    },
    {
      "cell_type": "code",
      "source": [
        "df_train['Latitude'] = df_train['Latitude'].interpolate(method='polynomial', order=2)\n",
        "df_train['Longitude'] = df_train['Longitude'].interpolate(method='polynomial', order=2)"
      ],
      "metadata": {
        "id": "uKvxljp5zMmE"
      },
      "execution_count": null,
      "outputs": []
    },
    {
      "cell_type": "code",
      "source": [
        "df_train.isna().sum()"
      ],
      "metadata": {
        "colab": {
          "base_uri": "https://localhost:8080/"
        },
        "id": "BAtPDDvzzuKe",
        "outputId": "5feac3fb-b0b0-4924-bb36-a88edcd946ba"
      },
      "execution_count": null,
      "outputs": [
        {
          "output_type": "execute_result",
          "data": {
            "text/plain": [
              "Reservoir period                  0\n",
              "Lithology                         0\n",
              "Hydrocarbon type                  0\n",
              "Region                            0\n",
              "Onshore/Offshore                  0\n",
              "Reservoir status                  0\n",
              "Tectonic regime                   0\n",
              "Structural setting                0\n",
              "Latitude                          0\n",
              "Longitude                         0\n",
              "Depth                             0\n",
              "Thickness (gross average ft)      0\n",
              "Thickness (net pay average ft)    0\n",
              "Porosity                          0\n",
              "Permeability                      0\n",
              "dtype: int64"
            ]
          },
          "metadata": {},
          "execution_count": 685
        }
      ]
    },
    {
      "cell_type": "markdown",
      "source": [
        "# Категоризация признаков и балансировка классов\n"
      ],
      "metadata": {
        "id": "u5GtOj8Q0V-5"
      }
    },
    {
      "cell_type": "code",
      "source": [
        "sns.set(style=\"white\")\n",
        "sns.set(style=\"whitegrid\", color_codes=True)\n",
        "y_data = pd.DataFrame(df_train['Onshore/Offshore'])\n",
        "sns.countplot(x='Onshore/Offshore', data=y_data, palette='hls')\n",
        "plt.show()"
      ],
      "metadata": {
        "colab": {
          "base_uri": "https://localhost:8080/",
          "height": 473
        },
        "id": "B-z9qvFI5uA8",
        "outputId": "6570ec40-aed4-4e21-afea-28fc76a0f2e8"
      },
      "execution_count": null,
      "outputs": [
        {
          "output_type": "display_data",
          "data": {
            "text/plain": [
              "<Figure size 500x500 with 1 Axes>"
            ],
            "image/png": "[encoded data removed]"
          },
          "metadata": {}
        }
      ]
    },
    {
      "cell_type": "code",
      "source": [
        "labelencoder = LabelEncoder()"
      ],
      "metadata": {
        "id": "xC_L2YWRKvvn"
      },
      "execution_count": null,
      "outputs": []
    },
    {
      "cell_type": "code",
      "source": [
        "for i in norm_cols:\n",
        "    df_train.loc[:, i] = labelencoder.fit_transform(df_train.loc[:, i])"
      ],
      "metadata": {
        "colab": {
          "base_uri": "https://localhost:8080/"
        },
        "id": "F9r6eD2cKwke",
        "outputId": "f282c718-4a20-48a3-c47d-852bf24a7b76"
      },
      "execution_count": null,
      "outputs": [
        {
          "output_type": "stream",
          "name": "stderr",
          "text": [
            "<ipython-input-688-5d005d57a7b7>:2: DeprecationWarning: In a future version, `df.iloc[:, i] = newvals` will attempt to set the values inplace instead of always setting a new array. To retain the old behavior, use either `df[df.columns[i]] = newvals` or, if columns are non-unique, `df.isetitem(i, newvals)`\n",
            "  df_train.loc[:, i] = labelencoder.fit_transform(df_train.loc[:, i])\n",
            "<ipython-input-688-5d005d57a7b7>:2: DeprecationWarning: In a future version, `df.iloc[:, i] = newvals` will attempt to set the values inplace instead of always setting a new array. To retain the old behavior, use either `df[df.columns[i]] = newvals` or, if columns are non-unique, `df.isetitem(i, newvals)`\n",
            "  df_train.loc[:, i] = labelencoder.fit_transform(df_train.loc[:, i])\n",
            "<ipython-input-688-5d005d57a7b7>:2: DeprecationWarning: In a future version, `df.iloc[:, i] = newvals` will attempt to set the values inplace instead of always setting a new array. To retain the old behavior, use either `df[df.columns[i]] = newvals` or, if columns are non-unique, `df.isetitem(i, newvals)`\n",
            "  df_train.loc[:, i] = labelencoder.fit_transform(df_train.loc[:, i])\n",
            "<ipython-input-688-5d005d57a7b7>:2: DeprecationWarning: In a future version, `df.iloc[:, i] = newvals` will attempt to set the values inplace instead of always setting a new array. To retain the old behavior, use either `df[df.columns[i]] = newvals` or, if columns are non-unique, `df.isetitem(i, newvals)`\n",
            "  df_train.loc[:, i] = labelencoder.fit_transform(df_train.loc[:, i])\n",
            "<ipython-input-688-5d005d57a7b7>:2: DeprecationWarning: In a future version, `df.iloc[:, i] = newvals` will attempt to set the values inplace instead of always setting a new array. To retain the old behavior, use either `df[df.columns[i]] = newvals` or, if columns are non-unique, `df.isetitem(i, newvals)`\n",
            "  df_train.loc[:, i] = labelencoder.fit_transform(df_train.loc[:, i])\n",
            "<ipython-input-688-5d005d57a7b7>:2: DeprecationWarning: In a future version, `df.iloc[:, i] = newvals` will attempt to set the values inplace instead of always setting a new array. To retain the old behavior, use either `df[df.columns[i]] = newvals` or, if columns are non-unique, `df.isetitem(i, newvals)`\n",
            "  df_train.loc[:, i] = labelencoder.fit_transform(df_train.loc[:, i])\n"
          ]
        }
      ]
    },
    {
      "cell_type": "code",
      "source": [
        "for m in norm_cols_with_slash:\n",
        "    unique_values = set('/'.join(df_train[m]).split('/'))\n",
        "    for value in unique_values:\n",
        "        df_train[value] = df_train[m].apply(lambda x: value in x).astype(int)\n",
        "    df_train.drop(m, axis=1, inplace=True)"
      ],
      "metadata": {
        "id": "mTdV06chKyuC"
      },
      "execution_count": null,
      "outputs": []
    },
    {
      "cell_type": "code",
      "source": [
        "x, y = df_train.drop(['Onshore/Offshore'], axis=1), df_train['Onshore/Offshore']\n",
        "ros = RandomOverSampler()\n",
        "\n",
        "# Применение увеличения выборки к данным\n",
        "x_resampled, y_resampled = ros.fit_resample(x, y)"
      ],
      "metadata": {
        "id": "3zjlv8DWLolX"
      },
      "execution_count": null,
      "outputs": []
    },
    {
      "cell_type": "code",
      "source": [
        "sns.set(style=\"white\")\n",
        "sns.set(style=\"whitegrid\", color_codes=True)\n",
        "y_data = pd.DataFrame(y_resampled)\n",
        "sns.countplot(x='Onshore/Offshore', data=y_data, palette='hls')\n",
        "plt.show()"
      ],
      "metadata": {
        "colab": {
          "base_uri": "https://localhost:8080/",
          "height": 473
        },
        "id": "-3GbRxqiLpTz",
        "outputId": "1437bf5d-97a4-4bf3-b04c-051c45923656"
      },
      "execution_count": null,
      "outputs": [
        {
          "output_type": "display_data",
          "data": {
            "text/plain": [
              "<Figure size 500x500 with 1 Axes>"
            ],
            "image/png": "[encoded data removed]"
          },
          "metadata": {}
        }
      ]
    },
    {
      "cell_type": "markdown",
      "source": [
        "# Удаление колонок при обучении"
      ],
      "metadata": {
        "id": "BCGaobxsEtAc"
      }
    },
    {
      "cell_type": "code",
      "source": [
        "norm_cols.remove('Onshore/Offshore')\n",
        "df_test = test[norm_cols + norm_cols_with_slash + num_cols].copy()\n",
        "df_test"
      ],
      "metadata": {
        "colab": {
          "base_uri": "https://localhost:8080/"
        },
        "id": "VEDnicFoEw5n",
        "outputId": "8ad8634d-03ff-4030-dfa0-186a173de5da"
      },
      "execution_count": null,
      "outputs": [
        {
          "output_type": "execute_result",
          "data": {
            "text/plain": [
              "    Reservoir period                Lithology Hydrocarbon type  \\\n",
              "0         CRETACEOUS                SANDSTONE   GAS-CONDENSATE   \n",
              "1            NEOGENE                SANDSTONE              GAS   \n",
              "2      CARBONIFEROUS                LIMESTONE              OIL   \n",
              "3           JURASSIC                SANDSTONE              OIL   \n",
              "4          PALEOGENE                SANDSTONE              OIL   \n",
              "..               ...                      ...              ...   \n",
              "128       ORDOVICIAN                 DOLOMITE              OIL   \n",
              "129          NEOGENE  THINLY-BEDDED SANDSTONE              OIL   \n",
              "130        PALEOGENE                SANDSTONE              OIL   \n",
              "131        PALEOGENE                SANDSTONE              OIL   \n",
              "132    CARBONIFEROUS                SANDSTONE              OIL   \n",
              "\n",
              "                  Region      Reservoir status  \\\n",
              "0                 AFRICA     MATURE PRODUCTION   \n",
              "1                 AFRICA  DECLINING PRODUCTION   \n",
              "2    FORMER SOVIET UNION            DEVELOPING   \n",
              "3                 EUROPE       NEARLY DEPLETED   \n",
              "4               FAR EAST     MATURE PRODUCTION   \n",
              "..                   ...                   ...   \n",
              "128             FAR EAST       NEARLY DEPLETED   \n",
              "129        NORTH AMERICA       NEARLY DEPLETED   \n",
              "130             FAR EAST     MATURE PRODUCTION   \n",
              "131             FAR EAST  DECLINING PRODUCTION   \n",
              "132  FORMER SOVIET UNION       NEARLY DEPLETED   \n",
              "\n",
              "                                       Tectonic regime Structural setting  \\\n",
              "0                                            EXTENSION               RIFT   \n",
              "1    STRIKE-SLIP/TRANSTENSION/SHALE/EVAPORITE/BASEM...       WRENCH/DELTA   \n",
              "2                                COMPRESSION/EVAPORITE  SUB-SALT/FORELAND   \n",
              "3                      INVERSION/COMPRESSION/EXTENSION               RIFT   \n",
              "4                 STRIKE-SLIP/TRANSPRESSION/BASEMENT-I        WRENCH/RIFT   \n",
              "..                                                 ...                ...   \n",
              "128                                          EXTENSION               RIFT   \n",
              "129   COMPRESSION/STRIKE-SLIP/TRANSPRESSION/BASEMENT-I     WRENCH/FOREARC   \n",
              "130                                          EXTENSION               RIFT   \n",
              "131                                          EXTENSION               RIFT   \n",
              "132                              COMPRESSION/EVAPORITE           FORELAND   \n",
              "\n",
              "     Latitude  Longitude  Depth  Thickness (gross average ft)  \\\n",
              "0     29.7422    28.4925  10282                         745.0   \n",
              "1     31.4382    31.3616  10499                         509.0   \n",
              "2     48.4740    57.6667   6000                         300.0   \n",
              "3     60.7833     1.7333   9790                         886.0   \n",
              "4     21.6000    72.9167   2950                         670.0   \n",
              "..        ...        ...    ...                           ...   \n",
              "128   37.9167   118.4333   5970                         560.0   \n",
              "129   35.0461  -119.1904  11100                         200.0   \n",
              "130   38.2100   117.0600   5384                         230.0   \n",
              "131   38.2100   117.0600   4721                         164.0   \n",
              "132   51.0000    44.8042   3225                         128.0   \n",
              "\n",
              "     Thickness (net pay average ft)  Porosity  Permeability  \n",
              "0                             144.0      10.0           8.0  \n",
              "1                             410.0      20.0         300.0  \n",
              "2                             105.0      10.0          20.0  \n",
              "3                             344.0      17.0         500.0  \n",
              "4                               0.0      21.0         250.0  \n",
              "..                              ...       ...           ...  \n",
              "128                            82.0       2.5           8.4  \n",
              "129                           150.0      20.0          75.0  \n",
              "130                            69.0      26.7        1872.0  \n",
              "131                            62.0      23.2         121.0  \n",
              "132                            44.0      26.0        1000.0  \n",
              "\n",
              "[133 rows x 14 columns]"
            ],
            "text/html": [
              "\n",
              "  <div id=\"df-5523eda1-36e0-4ce7-8b77-e8d8ce1ce549\" class=\"colab-df-container\">\n",
              "    <div>\n",
              "<style scoped>\n",
              "    .dataframe tbody tr th:only-of-type {\n",
              "        vertical-align: middle;\n",
              "    }\n",
              "\n",
              "    .dataframe tbody tr th {\n",
              "        vertical-align: top;\n",
              "    }\n",
              "\n",
              "    .dataframe thead th {\n",
              "        text-align: right;\n",
              "    }\n",
              "</style>\n",
              "<table border=\"1\" class=\"dataframe\">\n",
              "  <thead>\n",
              "    <tr style=\"text-align: right;\">\n",
              "      <th></th>\n",
              "      <th>Reservoir period</th>\n",
              "      <th>Lithology</th>\n",
              "      <th>Hydrocarbon type</th>\n",
              "      <th>Region</th>\n",
              "      <th>Reservoir status</th>\n",
              "      <th>Tectonic regime</th>\n",
              "      <th>Structural setting</th>\n",
              "      <th>Latitude</th>\n",
              "      <th>Longitude</th>\n",
              "      <th>Depth</th>\n",
              "      <th>Thickness (gross average ft)</th>\n",
              "      <th>Thickness (net pay average ft)</th>\n",
              "      <th>Porosity</th>\n",
              "      <th>Permeability</th>\n",
              "    </tr>\n",
              "  </thead>\n",
              "  <tbody>\n",
              "    <tr>\n",
              "      <th>0</th>\n",
              "      <td>CRETACEOUS</td>\n",
              "      <td>SANDSTONE</td>\n",
              "      <td>GAS-CONDENSATE</td>\n",
              "      <td>AFRICA</td>\n",
              "      <td>MATURE PRODUCTION</td>\n",
              "      <td>EXTENSION</td>\n",
              "      <td>RIFT</td>\n",
              "      <td>29.7422</td>\n",
              "      <td>28.4925</td>\n",
              "      <td>10282</td>\n",
              "      <td>745.0</td>\n",
              "      <td>144.0</td>\n",
              "      <td>10.0</td>\n",
              "      <td>8.0</td>\n",
              "    </tr>\n",
              "    <tr>\n",
              "      <th>1</th>\n",
              "      <td>NEOGENE</td>\n",
              "      <td>SANDSTONE</td>\n",
              "      <td>GAS</td>\n",
              "      <td>AFRICA</td>\n",
              "      <td>DECLINING PRODUCTION</td>\n",
              "      <td>STRIKE-SLIP/TRANSTENSION/SHALE/EVAPORITE/BASEM...</td>\n",
              "      <td>WRENCH/DELTA</td>\n",
              "      <td>31.4382</td>\n",
              "      <td>31.3616</td>\n",
              "      <td>10499</td>\n",
              "      <td>509.0</td>\n",
              "      <td>410.0</td>\n",
              "      <td>20.0</td>\n",
              "      <td>300.0</td>\n",
              "    </tr>\n",
              "    <tr>\n",
              "      <th>2</th>\n",
              "      <td>CARBONIFEROUS</td>\n",
              "      <td>LIMESTONE</td>\n",
              "      <td>OIL</td>\n",
              "      <td>FORMER SOVIET UNION</td>\n",
              "      <td>DEVELOPING</td>\n",
              "      <td>COMPRESSION/EVAPORITE</td>\n",
              "      <td>SUB-SALT/FORELAND</td>\n",
              "      <td>48.4740</td>\n",
              "      <td>57.6667</td>\n",
              "      <td>6000</td>\n",
              "      <td>300.0</td>\n",
              "      <td>105.0</td>\n",
              "      <td>10.0</td>\n",
              "      <td>20.0</td>\n",
              "    </tr>\n",
              "    <tr>\n",
              "      <th>3</th>\n",
              "      <td>JURASSIC</td>\n",
              "      <td>SANDSTONE</td>\n",
              "      <td>OIL</td>\n",
              "      <td>EUROPE</td>\n",
              "      <td>NEARLY DEPLETED</td>\n",
              "      <td>INVERSION/COMPRESSION/EXTENSION</td>\n",
              "      <td>RIFT</td>\n",
              "      <td>60.7833</td>\n",
              "      <td>1.7333</td>\n",
              "      <td>9790</td>\n",
              "      <td>886.0</td>\n",
              "      <td>344.0</td>\n",
              "      <td>17.0</td>\n",
              "      <td>500.0</td>\n",
              "    </tr>\n",
              "    <tr>\n",
              "      <th>4</th>\n",
              "      <td>PALEOGENE</td>\n",
              "      <td>SANDSTONE</td>\n",
              "      <td>OIL</td>\n",
              "      <td>FAR EAST</td>\n",
              "      <td>MATURE PRODUCTION</td>\n",
              "      <td>STRIKE-SLIP/TRANSPRESSION/BASEMENT-I</td>\n",
              "      <td>WRENCH/RIFT</td>\n",
              "      <td>21.6000</td>\n",
              "      <td>72.9167</td>\n",
              "      <td>2950</td>\n",
              "      <td>670.0</td>\n",
              "      <td>0.0</td>\n",
              "      <td>21.0</td>\n",
              "      <td>250.0</td>\n",
              "    </tr>\n",
              "    <tr>\n",
              "      <th>...</th>\n",
              "      <td>...</td>\n",
              "      <td>...</td>\n",
              "      <td>...</td>\n",
              "      <td>...</td>\n",
              "      <td>...</td>\n",
              "      <td>...</td>\n",
              "      <td>...</td>\n",
              "      <td>...</td>\n",
              "      <td>...</td>\n",
              "      <td>...</td>\n",
              "      <td>...</td>\n",
              "      <td>...</td>\n",
              "      <td>...</td>\n",
              "      <td>...</td>\n",
              "    </tr>\n",
              "    <tr>\n",
              "      <th>128</th>\n",
              "      <td>ORDOVICIAN</td>\n",
              "      <td>DOLOMITE</td>\n",
              "      <td>OIL</td>\n",
              "      <td>FAR EAST</td>\n",
              "      <td>NEARLY DEPLETED</td>\n",
              "      <td>EXTENSION</td>\n",
              "      <td>RIFT</td>\n",
              "      <td>37.9167</td>\n",
              "      <td>118.4333</td>\n",
              "      <td>5970</td>\n",
              "      <td>560.0</td>\n",
              "      <td>82.0</td>\n",
              "      <td>2.5</td>\n",
              "      <td>8.4</td>\n",
              "    </tr>\n",
              "    <tr>\n",
              "      <th>129</th>\n",
              "      <td>NEOGENE</td>\n",
              "      <td>THINLY-BEDDED SANDSTONE</td>\n",
              "      <td>OIL</td>\n",
              "      <td>NORTH AMERICA</td>\n",
              "      <td>NEARLY DEPLETED</td>\n",
              "      <td>COMPRESSION/STRIKE-SLIP/TRANSPRESSION/BASEMENT-I</td>\n",
              "      <td>WRENCH/FOREARC</td>\n",
              "      <td>35.0461</td>\n",
              "      <td>-119.1904</td>\n",
              "      <td>11100</td>\n",
              "      <td>200.0</td>\n",
              "      <td>150.0</td>\n",
              "      <td>20.0</td>\n",
              "      <td>75.0</td>\n",
              "    </tr>\n",
              "    <tr>\n",
              "      <th>130</th>\n",
              "      <td>PALEOGENE</td>\n",
              "      <td>SANDSTONE</td>\n",
              "      <td>OIL</td>\n",
              "      <td>FAR EAST</td>\n",
              "      <td>MATURE PRODUCTION</td>\n",
              "      <td>EXTENSION</td>\n",
              "      <td>RIFT</td>\n",
              "      <td>38.2100</td>\n",
              "      <td>117.0600</td>\n",
              "      <td>5384</td>\n",
              "      <td>230.0</td>\n",
              "      <td>69.0</td>\n",
              "      <td>26.7</td>\n",
              "      <td>1872.0</td>\n",
              "    </tr>\n",
              "    <tr>\n",
              "      <th>131</th>\n",
              "      <td>PALEOGENE</td>\n",
              "      <td>SANDSTONE</td>\n",
              "      <td>OIL</td>\n",
              "      <td>FAR EAST</td>\n",
              "      <td>DECLINING PRODUCTION</td>\n",
              "      <td>EXTENSION</td>\n",
              "      <td>RIFT</td>\n",
              "      <td>38.2100</td>\n",
              "      <td>117.0600</td>\n",
              "      <td>4721</td>\n",
              "      <td>164.0</td>\n",
              "      <td>62.0</td>\n",
              "      <td>23.2</td>\n",
              "      <td>121.0</td>\n",
              "    </tr>\n",
              "    <tr>\n",
              "      <th>132</th>\n",
              "      <td>CARBONIFEROUS</td>\n",
              "      <td>SANDSTONE</td>\n",
              "      <td>OIL</td>\n",
              "      <td>FORMER SOVIET UNION</td>\n",
              "      <td>NEARLY DEPLETED</td>\n",
              "      <td>COMPRESSION/EVAPORITE</td>\n",
              "      <td>FORELAND</td>\n",
              "      <td>51.0000</td>\n",
              "      <td>44.8042</td>\n",
              "      <td>3225</td>\n",
              "      <td>128.0</td>\n",
              "      <td>44.0</td>\n",
              "      <td>26.0</td>\n",
              "      <td>1000.0</td>\n",
              "    </tr>\n",
              "  </tbody>\n",
              "</table>\n",
              "<p>133 rows × 14 columns</p>\n",
              "</div>\n",
              "    <div class=\"colab-df-buttons\">\n",
              "\n",
              "  <div class=\"colab-df-container\">\n",
              "    <button class=\"colab-df-convert\" onclick=\"convertToInteractive('df-5523eda1-36e0-4ce7-8b77-e8d8ce1ce549')\"\n",
              "            title=\"Convert this dataframe to an interactive table.\"\n",
              "            style=\"display:none;\">\n",
              "\n",
              "  <svg xmlns=\"http://www.w3.org/2000/svg\" height=\"24px\" viewBox=\"0 -960 960 960\">\n",
              "    <path d=\"M120-120v-720h720v720H120Zm60-500h600v-160H180v160Zm220 220h160v-160H400v160Zm0 220h160v-160H400v160ZM180-400h160v-160H180v160Zm440 0h160v-160H620v160ZM180-180h160v-160H180v160Zm440 0h160v-160H620v160Z\"/>\n",
              "  </svg>\n",
              "    </button>\n",
              "\n",
              "  <style>\n",
              "    .colab-df-container {\n",
              "      display:flex;\n",
              "      gap: 12px;\n",
              "    }\n",
              "\n",
              "    .colab-df-convert {\n",
              "      background-color: #E8F0FE;\n",
              "      border: none;\n",
              "      border-radius: 50%;\n",
              "      cursor: pointer;\n",
              "      display: none;\n",
              "      fill: #1967D2;\n",
              "      height: 32px;\n",
              "      padding: 0 0 0 0;\n",
              "      width: 32px;\n",
              "    }\n",
              "\n",
              "    .colab-df-convert:hover {\n",
              "      background-color: #E2EBFA;\n",
              "      box-shadow: 0px 1px 2px rgba(60, 64, 67, 0.3), 0px 1px 3px 1px rgba(60, 64, 67, 0.15);\n",
              "      fill: #174EA6;\n",
              "    }\n",
              "\n",
              "    .colab-df-buttons div {\n",
              "      margin-bottom: 4px;\n",
              "    }\n",
              "\n",
              "    [theme=dark] .colab-df-convert {\n",
              "      background-color: #3B4455;\n",
              "      fill: #D2E3FC;\n",
              "    }\n",
              "\n",
              "    [theme=dark] .colab-df-convert:hover {\n",
              "      background-color: #434B5C;\n",
              "      box-shadow: 0px 1px 3px 1px rgba(0, 0, 0, 0.15);\n",
              "      filter: drop-shadow(0px 1px 2px rgba(0, 0, 0, 0.3));\n",
              "      fill: #FFFFFF;\n",
              "    }\n",
              "  </style>\n",
              "\n",
              "    <script>\n",
              "      const buttonEl =\n",
              "        document.querySelector('#df-5523eda1-36e0-4ce7-8b77-e8d8ce1ce549 button.colab-df-convert');\n",
              "      buttonEl.style.display =\n",
              "        google.colab.kernel.accessAllowed ? 'block' : 'none';\n",
              "\n",
              "      async function convertToInteractive(key) {\n",
              "        const element = document.querySelector('#df-5523eda1-36e0-4ce7-8b77-e8d8ce1ce549');\n",
              "        const dataTable =\n",
              "          await google.colab.kernel.invokeFunction('convertToInteractive',\n",
              "                                                    [key], {});\n",
              "        if (!dataTable) return;\n",
              "\n",
              "        const docLinkHtml = 'Like what you see? Visit the ' +\n",
              "          '<a target=\"_blank\" href=https://colab.research.google.com/notebooks/data_table.ipynb>data table notebook</a>'\n",
              "          + ' to learn more about interactive tables.';\n",
              "        element.innerHTML = '';\n",
              "        dataTable['output_type'] = 'display_data';\n",
              "        await google.colab.output.renderOutput(dataTable, element);\n",
              "        const docLink = document.createElement('div');\n",
              "        docLink.innerHTML = docLinkHtml;\n",
              "        element.appendChild(docLink);\n",
              "      }\n",
              "    </script>\n",
              "  </div>\n",
              "\n",
              "\n",
              "<div id=\"df-2ccdb4dc-8280-4dab-9dc2-bbe68928e348\">\n",
              "  <button class=\"colab-df-quickchart\" onclick=\"quickchart('df-2ccdb4dc-8280-4dab-9dc2-bbe68928e348')\"\n",
              "            title=\"Suggest charts\"\n",
              "            style=\"display:none;\">\n",
              "\n",
              "<svg xmlns=\"http://www.w3.org/2000/svg\" height=\"24px\"viewBox=\"0 0 24 24\"\n",
              "     width=\"24px\">\n",
              "    <g>\n",
              "        <path d=\"M19 3H5c-1.1 0-2 .9-2 2v14c0 1.1.9 2 2 2h14c1.1 0 2-.9 2-2V5c0-1.1-.9-2-2-2zM9 17H7v-7h2v7zm4 0h-2V7h2v10zm4 0h-2v-4h2v4z\"/>\n",
              "    </g>\n",
              "</svg>\n",
              "  </button>\n",
              "\n",
              "<style>\n",
              "  .colab-df-quickchart {\n",
              "      --bg-color: #E8F0FE;\n",
              "      --fill-color: #1967D2;\n",
              "      --hover-bg-color: #E2EBFA;\n",
              "      --hover-fill-color: #174EA6;\n",
              "      --disabled-fill-color: #AAA;\n",
              "      --disabled-bg-color: #DDD;\n",
              "  }\n",
              "\n",
              "  [theme=dark] .colab-df-quickchart {\n",
              "      --bg-color: #3B4455;\n",
              "      --fill-color: #D2E3FC;\n",
              "      --hover-bg-color: #434B5C;\n",
              "      --hover-fill-color: #FFFFFF;\n",
              "      --disabled-bg-color: #3B4455;\n",
              "      --disabled-fill-color: #666;\n",
              "  }\n",
              "\n",
              "  .colab-df-quickchart {\n",
              "    background-color: var(--bg-color);\n",
              "    border: none;\n",
              "    border-radius: 50%;\n",
              "    cursor: pointer;\n",
              "    display: none;\n",
              "    fill: var(--fill-color);\n",
              "    height: 32px;\n",
              "    padding: 0;\n",
              "    width: 32px;\n",
              "  }\n",
              "\n",
              "  .colab-df-quickchart:hover {\n",
              "    background-color: var(--hover-bg-color);\n",
              "    box-shadow: 0 1px 2px rgba(60, 64, 67, 0.3), 0 1px 3px 1px rgba(60, 64, 67, 0.15);\n",
              "    fill: var(--button-hover-fill-color);\n",
              "  }\n",
              "\n",
              "  .colab-df-quickchart-complete:disabled,\n",
              "  .colab-df-quickchart-complete:disabled:hover {\n",
              "    background-color: var(--disabled-bg-color);\n",
              "    fill: var(--disabled-fill-color);\n",
              "    box-shadow: none;\n",
              "  }\n",
              "\n",
              "  .colab-df-spinner {\n",
              "    border: 2px solid var(--fill-color);\n",
              "    border-color: transparent;\n",
              "    border-bottom-color: var(--fill-color);\n",
              "    animation:\n",
              "      spin 1s steps(1) infinite;\n",
              "  }\n",
              "\n",
              "  @keyframes spin {\n",
              "    0% {\n",
              "      border-color: transparent;\n",
              "      border-bottom-color: var(--fill-color);\n",
              "      border-left-color: var(--fill-color);\n",
              "    }\n",
              "    20% {\n",
              "      border-color: transparent;\n",
              "      border-left-color: var(--fill-color);\n",
              "      border-top-color: var(--fill-color);\n",
              "    }\n",
              "    30% {\n",
              "      border-color: transparent;\n",
              "      border-left-color: var(--fill-color);\n",
              "      border-top-color: var(--fill-color);\n",
              "      border-right-color: var(--fill-color);\n",
              "    }\n",
              "    40% {\n",
              "      border-color: transparent;\n",
              "      border-right-color: var(--fill-color);\n",
              "      border-top-color: var(--fill-color);\n",
              "    }\n",
              "    60% {\n",
              "      border-color: transparent;\n",
              "      border-right-color: var(--fill-color);\n",
              "    }\n",
              "    80% {\n",
              "      border-color: transparent;\n",
              "      border-right-color: var(--fill-color);\n",
              "      border-bottom-color: var(--fill-color);\n",
              "    }\n",
              "    90% {\n",
              "      border-color: transparent;\n",
              "      border-bottom-color: var(--fill-color);\n",
              "    }\n",
              "  }\n",
              "</style>\n",
              "\n",
              "  <script>\n",
              "    async function quickchart(key) {\n",
              "      const quickchartButtonEl =\n",
              "        document.querySelector('#' + key + ' button');\n",
              "      quickchartButtonEl.disabled = true;  // To prevent multiple clicks.\n",
              "      quickchartButtonEl.classList.add('colab-df-spinner');\n",
              "      try {\n",
              "        const charts = await google.colab.kernel.invokeFunction(\n",
              "            'suggestCharts', [key], {});\n",
              "      } catch (error) {\n",
              "        console.error('Error during call to suggestCharts:', error);\n",
              "      }\n",
              "      quickchartButtonEl.classList.remove('colab-df-spinner');\n",
              "      quickchartButtonEl.classList.add('colab-df-quickchart-complete');\n",
              "    }\n",
              "    (() => {\n",
              "      let quickchartButtonEl =\n",
              "        document.querySelector('#df-2ccdb4dc-8280-4dab-9dc2-bbe68928e348 button');\n",
              "      quickchartButtonEl.style.display =\n",
              "        google.colab.kernel.accessAllowed ? 'block' : 'none';\n",
              "    })();\n",
              "  </script>\n",
              "</div>\n",
              "    </div>\n",
              "  </div>\n"
            ]
          },
          "metadata": {},
          "execution_count": 692
        }
      ]
    },
    {
      "cell_type": "code",
      "source": [
        "country_test = sorted(count(df_test['Region']).items(), key=lambda x: x[-1])[-1][0]\n",
        "df_test['Region'].fillna(country_test, inplace=True)"
      ],
      "metadata": {
        "id": "_-itLeaQE6_r"
      },
      "execution_count": null,
      "outputs": []
    },
    {
      "cell_type": "code",
      "source": [
        "df_test['Latitude'] = df_test['Latitude'].interpolate(method='polynomial', order=2)\n",
        "df_test['Longitude'] = df_test['Longitude'].interpolate(method='polynomial', order=2)"
      ],
      "metadata": {
        "id": "Wps1_zH6FAA6"
      },
      "execution_count": null,
      "outputs": []
    },
    {
      "cell_type": "code",
      "source": [
        "df_test.isna().sum()"
      ],
      "metadata": {
        "colab": {
          "base_uri": "https://localhost:8080/"
        },
        "id": "UTdTTv4AFC9T",
        "outputId": "81395c5b-61de-4efd-d284-efaaab3e3d2c"
      },
      "execution_count": null,
      "outputs": [
        {
          "output_type": "execute_result",
          "data": {
            "text/plain": [
              "Reservoir period                  0\n",
              "Lithology                         0\n",
              "Hydrocarbon type                  0\n",
              "Region                            0\n",
              "Reservoir status                  0\n",
              "Tectonic regime                   0\n",
              "Structural setting                0\n",
              "Latitude                          0\n",
              "Longitude                         0\n",
              "Depth                             0\n",
              "Thickness (gross average ft)      0\n",
              "Thickness (net pay average ft)    0\n",
              "Porosity                          0\n",
              "Permeability                      0\n",
              "dtype: int64"
            ]
          },
          "metadata": {},
          "execution_count": 695
        }
      ]
    },
    {
      "cell_type": "code",
      "source": [
        "for i in norm_cols:\n",
        "    df_test.loc[:, i] = labelencoder.fit_transform(df_test.loc[:, i])\n",
        "\n",
        "for m in norm_cols_with_slash:\n",
        "    unique_values = set('/'.join(df_test[m]).strip().split('/'))\n",
        "    for value in unique_values:\n",
        "        df_test[value] = df_test[m].apply(lambda x: value in x).astype(int)\n",
        "    df_test.drop(m, axis=1, inplace=True)"
      ],
      "metadata": {
        "colab": {
          "base_uri": "https://localhost:8080/"
        },
        "id": "Crl1dp4wFHli",
        "outputId": "a0506184-f368-4e9f-9d32-439e5be5f82f"
      },
      "execution_count": null,
      "outputs": [
        {
          "output_type": "stream",
          "name": "stderr",
          "text": [
            "<ipython-input-696-2b8d6ddf51ea>:2: DeprecationWarning: In a future version, `df.iloc[:, i] = newvals` will attempt to set the values inplace instead of always setting a new array. To retain the old behavior, use either `df[df.columns[i]] = newvals` or, if columns are non-unique, `df.isetitem(i, newvals)`\n",
            "  df_test.loc[:, i] = labelencoder.fit_transform(df_test.loc[:, i])\n",
            "<ipython-input-696-2b8d6ddf51ea>:2: DeprecationWarning: In a future version, `df.iloc[:, i] = newvals` will attempt to set the values inplace instead of always setting a new array. To retain the old behavior, use either `df[df.columns[i]] = newvals` or, if columns are non-unique, `df.isetitem(i, newvals)`\n",
            "  df_test.loc[:, i] = labelencoder.fit_transform(df_test.loc[:, i])\n",
            "<ipython-input-696-2b8d6ddf51ea>:2: DeprecationWarning: In a future version, `df.iloc[:, i] = newvals` will attempt to set the values inplace instead of always setting a new array. To retain the old behavior, use either `df[df.columns[i]] = newvals` or, if columns are non-unique, `df.isetitem(i, newvals)`\n",
            "  df_test.loc[:, i] = labelencoder.fit_transform(df_test.loc[:, i])\n",
            "<ipython-input-696-2b8d6ddf51ea>:2: DeprecationWarning: In a future version, `df.iloc[:, i] = newvals` will attempt to set the values inplace instead of always setting a new array. To retain the old behavior, use either `df[df.columns[i]] = newvals` or, if columns are non-unique, `df.isetitem(i, newvals)`\n",
            "  df_test.loc[:, i] = labelencoder.fit_transform(df_test.loc[:, i])\n",
            "<ipython-input-696-2b8d6ddf51ea>:2: DeprecationWarning: In a future version, `df.iloc[:, i] = newvals` will attempt to set the values inplace instead of always setting a new array. To retain the old behavior, use either `df[df.columns[i]] = newvals` or, if columns are non-unique, `df.isetitem(i, newvals)`\n",
            "  df_test.loc[:, i] = labelencoder.fit_transform(df_test.loc[:, i])\n"
          ]
        }
      ]
    },
    {
      "cell_type": "code",
      "source": [
        "false_columns = pd.Index(set(np.array(x.columns)) - set(np.array(df_test.columns)))\n",
        "false_columns"
      ],
      "metadata": {
        "colab": {
          "base_uri": "https://localhost:8080/"
        },
        "id": "8MKMfugRGOSI",
        "outputId": "917578f6-ef8f-4a36-c3ee-d0359f09c259"
      },
      "execution_count": null,
      "outputs": [
        {
          "output_type": "execute_result",
          "data": {
            "text/plain": [
              "Index(['REACTIVATION'], dtype='object')"
            ]
          },
          "metadata": {},
          "execution_count": 697
        }
      ]
    },
    {
      "cell_type": "markdown",
      "source": [
        "# Обучение модели"
      ],
      "metadata": {
        "id": "49LFlJNa8Hjm"
      }
    },
    {
      "cell_type": "code",
      "source": [
        "x_resampled.drop(false_columns, axis=1, inplace=True)\n",
        "x_train, x_test, y_train, y_test = train_test_split(x_resampled[sorted(x_resampled.columns)], y_resampled, test_size=0.2)\n",
        "\n",
        "print(f'Train dataset size: {x_train.shape}, {y_train.shape}')\n",
        "print(f'Train dataset size: {x_test.shape}, {y_test.shape}')"
      ],
      "metadata": {
        "colab": {
          "base_uri": "https://localhost:8080/"
        },
        "id": "upHRRDz78Ks_",
        "outputId": "a5ca027a-84a3-4565-e4f8-9a540ea26ffd"
      },
      "execution_count": null,
      "outputs": [
        {
          "output_type": "stream",
          "name": "stdout",
          "text": [
            "Train dataset size: (523, 39), (523,)\n",
            "Train dataset size: (131, 39), (131,)\n"
          ]
        }
      ]
    },
    {
      "cell_type": "code",
      "source": [
        "from sklearn.tree import DecisionTreeClassifier\n",
        "\n",
        "# Создадим модель дерева решений\n",
        "model = DecisionTreeClassifier()\n",
        "\n",
        "# обучение модели\n",
        "model.fit(x_train, y_train)\n",
        "\n",
        "# предсказание ответов для тестовой выборки\n",
        "answers_pred = model.predict(x_test)"
      ],
      "metadata": {
        "id": "Dqwpq4x78PAv"
      },
      "execution_count": null,
      "outputs": []
    },
    {
      "cell_type": "code",
      "source": [
        "from sklearn.metrics import accuracy_score, precision_score, recall_score\n",
        "\n",
        "# answers_pred - ответы которые вернула модель для X_test\n",
        "# y_test - это правильные ответы для X_test\n",
        "print(f'Accuracy: {accuracy_score(y_test, answers_pred)}')"
      ],
      "metadata": {
        "colab": {
          "base_uri": "https://localhost:8080/"
        },
        "id": "954IponA8Tuq",
        "outputId": "888845d4-ac4c-4bd3-e823-6b1a0cc4d048"
      },
      "execution_count": null,
      "outputs": [
        {
          "output_type": "stream",
          "name": "stdout",
          "text": [
            "Accuracy: 0.9541984732824428\n"
          ]
        }
      ]
    },
    {
      "cell_type": "code",
      "source": [
        "from sklearn.metrics import ConfusionMatrixDisplay\n",
        "from sklearn.metrics import confusion_matrix\n",
        "\n",
        "conf_matrix = confusion_matrix(y_test, answers_pred)\n",
        "\n",
        "fig, ax = plt.subplots(figsize=(8,6), dpi=100)\n",
        "\n",
        "display = ConfusionMatrixDisplay(conf_matrix, display_labels=model.classes_)\n",
        "\n",
        "display.plot(ax=ax)"
      ],
      "metadata": {
        "colab": {
          "base_uri": "https://localhost:8080/",
          "height": 567
        },
        "id": "AwnrJQfT8ZfD",
        "outputId": "3e9445fa-e0f1-41f6-852b-b4471b7f0747"
      },
      "execution_count": null,
      "outputs": [
        {
          "output_type": "execute_result",
          "data": {
            "text/plain": [
              "<sklearn.metrics._plot.confusion_matrix.ConfusionMatrixDisplay at 0x7d864014b970>"
            ]
          },
          "metadata": {},
          "execution_count": 701
        },
        {
          "output_type": "display_data",
          "data": {
            "text/plain": [
              "<Figure size 800x600 with 2 Axes>"
            ],
            "image/png": "[encoded data removed]"
          },
          "metadata": {}
        }
      ]
    },
    {
      "cell_type": "code",
      "source": [
        "model_full = DecisionTreeClassifier()\n",
        "\n",
        "# обучение модели\n",
        "model_full.fit(x_resampled[sorted(x_resampled.columns)], y_resampled)"
      ],
      "metadata": {
        "colab": {
          "base_uri": "https://localhost:8080/",
          "height": 75
        },
        "id": "snu158yV9CUh",
        "outputId": "d89c1831-94b0-4ef4-b596-2e7a9be7ed14"
      },
      "execution_count": null,
      "outputs": [
        {
          "output_type": "execute_result",
          "data": {
            "text/plain": [
              "DecisionTreeClassifier()"
            ],
            "text/html": [
              "<style>#sk-container-id-9 {color: black;background-color: white;}#sk-container-id-9 pre{padding: 0;}#sk-container-id-9 div.sk-toggleable {background-color: white;}#sk-container-id-9 label.sk-toggleable__label {cursor: pointer;display: block;width: 100%;margin-bottom: 0;padding: 0.3em;box-sizing: border-box;text-align: center;}#sk-container-id-9 label.sk-toggleable__label-arrow:before {content: \"▸\";float: left;margin-right: 0.25em;color: #696969;}#sk-container-id-9 label.sk-toggleable__label-arrow:hover:before {color: black;}#sk-container-id-9 div.sk-estimator:hover label.sk-toggleable__label-arrow:before {color: black;}#sk-container-id-9 div.sk-toggleable__content {max-height: 0;max-width: 0;overflow: hidden;text-align: left;background-color: #f0f8ff;}#sk-container-id-9 div.sk-toggleable__content pre {margin: 0.2em;color: black;border-radius: 0.25em;background-color: #f0f8ff;}#sk-container-id-9 input.sk-toggleable__control:checked~div.sk-toggleable__content {max-height: 200px;max-width: 100%;overflow: auto;}#sk-container-id-9 input.sk-toggleable__control:checked~label.sk-toggleable__label-arrow:before {content: \"▾\";}#sk-container-id-9 div.sk-estimator input.sk-toggleable__control:checked~label.sk-toggleable__label {background-color: #d4ebff;}#sk-container-id-9 div.sk-label input.sk-toggleable__control:checked~label.sk-toggleable__label {background-color: #d4ebff;}#sk-container-id-9 input.sk-hidden--visually {border: 0;clip: rect(1px 1px 1px 1px);clip: rect(1px, 1px, 1px, 1px);height: 1px;margin: -1px;overflow: hidden;padding: 0;position: absolute;width: 1px;}#sk-container-id-9 div.sk-estimator {font-family: monospace;background-color: #f0f8ff;border: 1px dotted black;border-radius: 0.25em;box-sizing: border-box;margin-bottom: 0.5em;}#sk-container-id-9 div.sk-estimator:hover {background-color: #d4ebff;}#sk-container-id-9 div.sk-parallel-item::after {content: \"\";width: 100%;border-bottom: 1px solid gray;flex-grow: 1;}#sk-container-id-9 div.sk-label:hover label.sk-toggleable__label {background-color: #d4ebff;}#sk-container-id-9 div.sk-serial::before {content: \"\";position: absolute;border-left: 1px solid gray;box-sizing: border-box;top: 0;bottom: 0;left: 50%;z-index: 0;}#sk-container-id-9 div.sk-serial {display: flex;flex-direction: column;align-items: center;background-color: white;padding-right: 0.2em;padding-left: 0.2em;position: relative;}#sk-container-id-9 div.sk-item {position: relative;z-index: 1;}#sk-container-id-9 div.sk-parallel {display: flex;align-items: stretch;justify-content: center;background-color: white;position: relative;}#sk-container-id-9 div.sk-item::before, #sk-container-id-9 div.sk-parallel-item::before {content: \"\";position: absolute;border-left: 1px solid gray;box-sizing: border-box;top: 0;bottom: 0;left: 50%;z-index: -1;}#sk-container-id-9 div.sk-parallel-item {display: flex;flex-direction: column;z-index: 1;position: relative;background-color: white;}#sk-container-id-9 div.sk-parallel-item:first-child::after {align-self: flex-end;width: 50%;}#sk-container-id-9 div.sk-parallel-item:last-child::after {align-self: flex-start;width: 50%;}#sk-container-id-9 div.sk-parallel-item:only-child::after {width: 0;}#sk-container-id-9 div.sk-dashed-wrapped {border: 1px dashed gray;margin: 0 0.4em 0.5em 0.4em;box-sizing: border-box;padding-bottom: 0.4em;background-color: white;}#sk-container-id-9 div.sk-label label {font-family: monospace;font-weight: bold;display: inline-block;line-height: 1.2em;}#sk-container-id-9 div.sk-label-container {text-align: center;}#sk-container-id-9 div.sk-container {/* jupyter's `normalize.less` sets `[hidden] { display: none; }` but bootstrap.min.css set `[hidden] { display: none !important; }` so we also need the `!important` here to be able to override the default hidden behavior on the sphinx rendered scikit-learn.org. See: https://github.com/scikit-learn/scikit-learn/issues/21755 */display: inline-block !important;position: relative;}#sk-container-id-9 div.sk-text-repr-fallback {display: none;}</style><div id=\"sk-container-id-9\" class=\"sk-top-container\"><div class=\"sk-text-repr-fallback\"><pre>DecisionTreeClassifier()</pre><b>In a Jupyter environment, please rerun this cell to show the HTML representation or trust the notebook. <br />On GitHub, the HTML representation is unable to render, please try loading this page with nbviewer.org.</b></div><div class=\"sk-container\" hidden><div class=\"sk-item\"><div class=\"sk-estimator sk-toggleable\"><input class=\"sk-toggleable__control sk-hidden--visually\" id=\"sk-estimator-id-9\" type=\"checkbox\" checked><label for=\"sk-estimator-id-9\" class=\"sk-toggleable__label sk-toggleable__label-arrow\">DecisionTreeClassifier</label><div class=\"sk-toggleable__content\"><pre>DecisionTreeClassifier()</pre></div></div></div></div></div>"
            ]
          },
          "metadata": {},
          "execution_count": 702
        }
      ]
    },
    {
      "cell_type": "markdown",
      "source": [
        "# Предсказание на тестовой выборке"
      ],
      "metadata": {
        "id": "6Pk4OGz_9VfH"
      }
    },
    {
      "cell_type": "code",
      "source": [
        "df_test.drop([''], axis=1, inplace=True)"
      ],
      "metadata": {
        "id": "iGBXNp80_Uf8"
      },
      "execution_count": null,
      "outputs": []
    },
    {
      "cell_type": "code",
      "source": [
        "result = model_full.predict(df_test[sorted(df_test.columns)])"
      ],
      "metadata": {
        "id": "kgFBHXGH_Ym5"
      },
      "execution_count": null,
      "outputs": []
    },
    {
      "cell_type": "code",
      "source": [
        "count(train['Onshore/Offshore'])\n",
        "dct = {1: 'ONSHORE', 0: 'OFFSHORE', 2: 'ONSHORE-OFFSHORE'}"
      ],
      "metadata": {
        "id": "E67XKHWfJgTv"
      },
      "execution_count": null,
      "outputs": []
    },
    {
      "cell_type": "code",
      "source": [
        "data = pd.DataFrame(map(lambda x: dct[x], result), columns=['Onshore/Offshore'])"
      ],
      "metadata": {
        "id": "G_U5xqTAIcCd"
      },
      "execution_count": null,
      "outputs": []
    },
    {
      "cell_type": "code",
      "source": [
        "count(data['Onshore/Offshore'])"
      ],
      "metadata": {
        "colab": {
          "base_uri": "https://localhost:8080/"
        },
        "id": "RqXVkmkpKRLf",
        "outputId": "c5384f0b-ce8f-4bca-8c65-a62bf09a9541"
      },
      "execution_count": null,
      "outputs": [
        {
          "output_type": "execute_result",
          "data": {
            "text/plain": [
              "Counter({'ONSHORE': 91, 'OFFSHORE': 40, 'ONSHORE-OFFSHORE': 2})"
            ]
          },
          "metadata": {},
          "execution_count": 707
        }
      ]
    },
    {
      "cell_type": "code",
      "source": [
        "sns.set(style=\"white\")\n",
        "sns.set(style=\"whitegrid\", color_codes=True)\n",
        "y_data = pd.DataFrame(data['Onshore/Offshore'])\n",
        "sns.countplot(x='Onshore/Offshore', data=y_data, palette='hls')\n",
        "plt.show()"
      ],
      "metadata": {
        "colab": {
          "base_uri": "https://localhost:8080/",
          "height": 473
        },
        "id": "aYJRFuZrKXy2",
        "outputId": "51c858f8-cb29-4c02-91bc-fff00f248aee"
      },
      "execution_count": null,
      "outputs": [
        {
          "output_type": "display_data",
          "data": {
            "text/plain": [
              "<Figure size 500x500 with 1 Axes>"
            ],
            "image/png": "[encoded data removed]"
          },
          "metadata": {}
        }
      ]
    },
    {
      "cell_type": "code",
      "source": [
        "#data.to_csv('predict.csv')"
      ],
      "metadata": {
        "id": "r8nXXoO3L2z_"
      },
      "execution_count": null,
      "outputs": []
    }
  ]
}